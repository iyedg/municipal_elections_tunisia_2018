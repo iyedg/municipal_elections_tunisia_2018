{
 "cells": [
  {
   "cell_type": "markdown",
   "metadata": {},
   "source": [
    "# Setup"
   ]
  },
  {
   "cell_type": "markdown",
   "metadata": {},
   "source": [
    "## Load data"
   ]
  },
  {
   "cell_type": "code",
   "execution_count": 1,
   "metadata": {
    "ExecuteTime": {
     "end_time": "2017-12-30T11:26:21.537911Z",
     "start_time": "2017-12-30T11:26:21.154678Z"
    },
    "init_cell": true
   },
   "outputs": [],
   "source": [
    "from oauth2client.service_account import ServiceAccountCredentials\n",
    "import gspread"
   ]
  },
  {
   "cell_type": "code",
   "execution_count": 2,
   "metadata": {
    "ExecuteTime": {
     "end_time": "2017-12-30T11:26:21.892053Z",
     "start_time": "2017-12-30T11:26:21.540624Z"
    },
    "init_cell": true
   },
   "outputs": [],
   "source": [
    "import pandas as pd\n",
    "import numpy as np\n",
    "import itertools"
   ]
  },
  {
   "cell_type": "code",
   "execution_count": 3,
   "metadata": {
    "ExecuteTime": {
     "end_time": "2017-12-30T11:26:21.903789Z",
     "start_time": "2017-12-30T11:26:21.895350Z"
    },
    "init_cell": true
   },
   "outputs": [],
   "source": [
    "def load_sheet():\n",
    "    SHEET_NAME = \"التوانسة كفاه ينتخبوا؟ (Responses)\"\n",
    "    KEY_FILENAME = \"cred.json\"\n",
    "    scope = ['https://spreadsheets.google.com/feeds']\n",
    "    credentials = ServiceAccountCredentials.from_json_keyfile_name(\n",
    "        KEY_FILENAME, scope)\n",
    "    gc = gspread.authorize(credentials)\n",
    "    return gc.open(SHEET_NAME).sheet1"
   ]
  },
  {
   "cell_type": "code",
   "execution_count": 4,
   "metadata": {
    "ExecuteTime": {
     "end_time": "2017-12-30T11:26:23.257568Z",
     "start_time": "2017-12-30T11:26:21.909173Z"
    },
    "init_cell": true
   },
   "outputs": [],
   "source": [
    "sheet = load_sheet()"
   ]
  },
  {
   "cell_type": "code",
   "execution_count": 5,
   "metadata": {
    "ExecuteTime": {
     "end_time": "2017-12-30T11:26:23.311367Z",
     "start_time": "2017-12-30T11:26:23.261014Z"
    },
    "init_cell": true
   },
   "outputs": [],
   "source": [
    "columns = {\n",
    "    \"Timestamp\": \"timestamp\",\n",
    "    \"فيما يتعلق بتوقعاتي، أنا نحس أداء المجلس البلدي الحالي  مخيّب للآمال [‌‌]\": \"satisfaction_overall_1\",\n",
    "    \"بعد الانتخابات الأخيرة، أنا في أغلب الأوقات نحس بخيبة أمل أكثر ملّي نحس برضا على أداء المجلس البلدي [‌‌]\": \"satisfaction_overall_2\",\n",
    "    \"بصفة عامّة، أنا راضي(ة) على أداء المجلس البلدي الحالي [‌‌]\": \"satisfaction_overall_3\",\n",
    "    \"فيما يتعلق بتوقعاتي،  نحس تعامل المجلس البلدي الحالي مع الفساد  مخيّب للآمال [‌‌]\": \"satisfaction_corruption_1\",\n",
    "    \"بعد الانتخابات الأخيرة، أنا في أغلب الأوقات نحس بخيبة أمل أكثر ملّي نحس برضا على أداء المجلس البلدي في التعامل مع الفساد [‌‌]\": \"satisfaction_corruption_2\",\n",
    "    \"بصفة عامة، أنا راضي(ة) على أداء المجلس البلدي الحالي في التعامل مع الفساد [‌‌]\": \"satisfaction_corruption_3\",\n",
    "    \"فيما يتعلق بتوقعاتي،  نحس تعامل المجلس البلدي الحالي مع البنية التّحتيّة و تطويرها مخيّب للآمال [‌‌]\": \"satisfaction_infrastructure_1\",\n",
    "    \"بعد الانتخابات الأخيرة، أنا في أغلب الأوقات نحسّ بخيبة أمل أكثر ملّي نحس برضا على أداء المجلس البلدي في التعامل مع البنية التّحتيّة وتطويرها [‌‌]\": \"satisfaction_infrastructure_2\",\n",
    "    \"بصفة عامة، أنا راضي(ة) على أداء المجلس البلدي الحالي في  التعامل مع البنية التّحتيّة وتطويرها [‌‌]\": \"satisfaction_infrastructure_3\",\n",
    "    \"فيما يتعلق بتوقعاتي،  نحس تعامل المجلس البلدي الحالي مع الشّفافيّة  مخيّب للآمال [‌‌]\": \"satisfaction_transparency_1\",\n",
    "    \"بعد الانتخابات الأخيرة، أنا في أغلب الأوقات نحسّ بخيبة أمل أكثر ملّي نحس برضا على أداء المجلس البلدي في التعامل مع الشّفافيّة [‌‌]\": \"satisfaction_transparency_2\",\n",
    "    \"بصفة عامة، أنا راضي(ة) على أداء المجلس البلدي الحالي في  التعامل مع الشّفافيّة [‌‌]\": \"satisfaction_transparency_3\",\n",
    "    \"ديما بش نختار مرشحي/مرشحتى و الا حزبي قبل المنافسين [‌‌]\": \"loyalty_1\",\n",
    "    \"ديما بش نفضل افكار  مرشحي/مرشحتى و الا حزبي قبل المنافسين [‌‌]\": \"loyalty_2\",\n",
    "    \"ديما بش نختار توجّهات  مرشحي/مرشحتى و الا حزبي قبل توجّهات  المنافسين [‌‌]\": \"loyalty_3\",\n",
    "    \"ديما بش نصوّت لمرشحي/لمرشحتى و الا حزبي ضد المنافسين [‌‌]\": \"loyalty_4\",\n",
    "    \"وقت اللي نختار المترشحين و القوائم المترشحة للإنتخبات نقول [‌‌]\": \"involvement_1\",\n",
    "    \"هل ترى انو  الأفراد و القوائم المترشحة للإنتخبات الكل كيف كيف ولا يفرقو على بعضهم؟  [‌‌]\": \"involvement_2\",\n",
    "    \"قداش يهمك انك تختار المترشح(ة) او القائمة المناسبة ؟ [‌‌]\": \"involvement_3\",\n",
    "    \"قداش يهمك تاثير خيارك على نتيجة الانتخابات البلدية ؟ [‌‌]\": \"involvement_4\",\n",
    "    \" حسب رايك، في شكون عندك الثقة إنو ينجم يحقق الشفافية: المجلس البلدي الحالي متاع منطقتك او مجلس بلدي جديد؟\": \"projective_decision_1\",\n",
    "    \" حسب رايك،  في شكون عندك الثقة إنو ينجم يحسن البنية التحتية:   المجلس البلدي الحالي متاع منطقتك او مجلس بلدي جديد؟\": \"projective_decision_2\",\n",
    "    \" حسب رايك، في شكون عندك الثقة  إنو ينجم يحارب  الفساد: المجلس البلدي الحالي متاع منطقتك او مجلس بلدي جديد؟\": \"projective_decision_3\",\n",
    "    \"حسب رايك، في شكون عندك الثقة إنو ينجم يعطي احسن مردود: المجلس البلدي الحالي  او مجلس بلدي جديد؟\": \"projective_decision_4\",\n",
    "    \"بالنسبة لي، الأخبار التلفزيونية مصدر مهم للمعلومات في الانتخابات البلدية [‌‌]\": \"external_information_1\",\n",
    "    \"بالنسبة لي،  الجرائد و المجلّات مصدر مهم للمعلومات بالنسبة للإنتخابات البلدية [‌‌]\": \"external_information_2\",\n",
    "    \"بالنسبة لي، الإنترنت مصدر مهم للمعلومات بالنسبة للإنتخابات البلدية [‌‌]\": \"external_information_3\",\n",
    "    \"بالنسبة لي، الدعاية السياسية هي مصدر مهم للمعلومات بالنسبة للإنتخابات البلدية [‌‌]\": \"external_information_4\",\n",
    "    \"بالنسبة لي، الناس الآخرين (الصحاب،العايلة الخ) هوما مصدر مهم للمعلومات بالنسبة للإنتخابات البلدية [‌‌]\": \"external_information_5\",\n",
    "    \"أنا واثق إني  باش نختار القائمة الانتخابية الصحيحة في الانتخابات البلدية الجاية [‌‌]\": \"confidence_1\",\n",
    "    \"عندي ثقة في قدرتي باش ناخذ القرار الصحيح كيف نختار لشكون باش نصوت في الانتخابات البلدية [‌‌]\": \"confidence_2\",\n",
    "    \"عندي ثقة في قدرتي باش نختار لشكون باش نصوت في الانتخابات البلدية [‌‌]\": \"confidence_3\",\n",
    "    \"قداش عمرك ؟\": \"age\",\n",
    "    \"الجنس\": \"gender\",\n",
    "    \"شنوّة مستواك التّعليمي ؟\": \"education\",\n",
    "    \"قدّاش الدخل الشّهري لعايلتك؟\": \"income\",\n",
    "    \"ما هي حالتك الاجتماعية؟\": \"marital_status\",\n",
    "    \"في انا قطاع تخدم؟\": \"employment\",\n",
    "    \"شنوة اسم البلدية الي تسكن فيها\": \"residence\",\n",
    "    \"فيما يتعلق بتوقعاتي، أنا نحس أداء المجلس البلدي الحالي  مخيّب للآمال [Row 2]\": \"satisfaction_overall_1_bis\"\n",
    "}"
   ]
  },
  {
   "cell_type": "code",
   "execution_count": 6,
   "metadata": {
    "ExecuteTime": {
     "end_time": "2017-12-30T11:26:28.363674Z",
     "start_time": "2017-12-30T11:26:23.314819Z"
    },
    "init_cell": true
   },
   "outputs": [],
   "source": [
    "df = pd.DataFrame(sheet.get_all_records())\n",
    "df.rename(columns=columns, inplace=True)"
   ]
  },
  {
   "cell_type": "code",
   "execution_count": 7,
   "metadata": {
    "ExecuteTime": {
     "end_time": "2017-12-30T11:26:28.388813Z",
     "start_time": "2017-12-30T11:26:28.366300Z"
    },
    "init_cell": true
   },
   "outputs": [],
   "source": [
    "df.replace({\"\": np.nan}, inplace=True)"
   ]
  },
  {
   "cell_type": "markdown",
   "metadata": {},
   "source": [
    "## Recode values"
   ]
  },
  {
   "cell_type": "markdown",
   "metadata": {},
   "source": [
    "## Recode demographic / socioeconomic values"
   ]
  },
  {
   "cell_type": "code",
   "execution_count": 8,
   "metadata": {
    "ExecuteTime": {
     "end_time": "2017-12-30T11:26:28.405519Z",
     "start_time": "2017-12-30T11:26:28.398680Z"
    },
    "init_cell": true
   },
   "outputs": [],
   "source": [
    "df.age.replace({\n",
    "    \"أكثر من 64\": \">64\"\n",
    "},\n",
    "    inplace=True)"
   ]
  },
  {
   "cell_type": "code",
   "execution_count": 9,
   "metadata": {
    "ExecuteTime": {
     "end_time": "2017-12-30T11:26:28.419364Z",
     "start_time": "2017-12-30T11:26:28.409980Z"
    },
    "init_cell": true
   },
   "outputs": [],
   "source": [
    "df.education.replace({\n",
    "    \"ثانوي\": \"Highschool\",\n",
    "    \"الجامعي\": \"Undergraduate\",\n",
    "    \"الدراسات العليا\": \"Post-graduate\",\n",
    "    \"أمي(ة)\": \"Illiterate\",\n",
    "}, inplace=True)"
   ]
  },
  {
   "cell_type": "code",
   "execution_count": 10,
   "metadata": {
    "ExecuteTime": {
     "end_time": "2017-12-30T11:26:28.440956Z",
     "start_time": "2017-12-30T11:26:28.423310Z"
    },
    "init_cell": true
   },
   "outputs": [],
   "source": [
    "df.employment.replace({\n",
    "    \"مسؤول(ة)\": \"Senior official\",\n",
    "    \"موظف(ة) إداري(ة)\": \"Administrative employee\",\n",
    "    \"موظف إداري\": \"Administrative employee\",\n",
    "    \"باعث(ة) مشروع ، فلاح(ة) ، تاجر(ة)\": \"Liberal, agriculturer or merchant\",\n",
    "    \"باعث مشروع ، فلاح ، تاجر\": \"Liberal, agriculturer or merchant\",\n",
    "    \"بطّال(ة)\": \"Unemployed\",\n",
    "    \"في الدّار (أب أو أم)\": \"Stay at home parent\",\n",
    "    \"طالب(ة)\": \"Student\",\n",
    "    \"étudiant \": \"Student\",\n",
    "    \"متقاعد(ة)\": \"Retired\"\n",
    "}, inplace=True)"
   ]
  },
  {
   "cell_type": "code",
   "execution_count": 11,
   "metadata": {
    "ExecuteTime": {
     "end_time": "2017-12-30T11:26:28.452780Z",
     "start_time": "2017-12-30T11:26:28.445019Z"
    },
    "init_cell": true
   },
   "outputs": [],
   "source": [
    "df.gender.replace({\n",
    "    \"أنثى\": \"F\",\n",
    "    \"ذكر\": \"M\"\n",
    "}, inplace=True)"
   ]
  },
  {
   "cell_type": "code",
   "execution_count": 12,
   "metadata": {
    "ExecuteTime": {
     "end_time": "2017-12-30T11:26:28.467612Z",
     "start_time": "2017-12-30T11:26:28.457300Z"
    },
    "init_cell": true
   },
   "outputs": [],
   "source": [
    "df.income.replace({\n",
    "    \"أقل من 600\": \"<600\",\n",
    "    \"بين 600 و1200\": \"600-1200\",\n",
    "    \"اكثر من 1200\": \">1200\"\n",
    "}, inplace=True)"
   ]
  },
  {
   "cell_type": "code",
   "execution_count": 13,
   "metadata": {
    "ExecuteTime": {
     "end_time": "2017-12-30T11:26:28.481865Z",
     "start_time": "2017-12-30T11:26:28.471231Z"
    },
    "init_cell": true
   },
   "outputs": [],
   "source": [
    "df.marital_status.replace({\n",
    "    \"عازب(ة)\": \"Single\",\n",
    "    \"عازب\": \"Single\",\n",
    "    \"متزوج(ة)\": \"Married\",\n",
    "    \"متزوج\": \"Married\",\n",
    "    \"مطلق(ة)\": \"Divorced\",\n",
    "    \"أرمل(ة)\": \"Widowed\"\n",
    "}, inplace=True)"
   ]
  },
  {
   "cell_type": "markdown",
   "metadata": {},
   "source": [
    "## Recode attitudinal columns (Likert scale)"
   ]
  },
  {
   "cell_type": "code",
   "execution_count": 14,
   "metadata": {
    "ExecuteTime": {
     "end_time": "2017-12-30T11:26:28.493406Z",
     "start_time": "2017-12-30T11:26:28.486040Z"
    },
    "init_cell": true
   },
   "outputs": [],
   "source": [
    "exclude = set([\"satisfaction_overall_1_bis\", \"timestamp\", \"residence\",\n",
    "               \"employment\", \"marital_status\", \"gender\", \"age\", \"income\",\n",
    "               \"education\"])\n",
    "include = list(set(df.columns).difference(exclude))"
   ]
  },
  {
   "cell_type": "code",
   "execution_count": 15,
   "metadata": {
    "ExecuteTime": {
     "end_time": "2017-12-30T11:26:28.518860Z",
     "start_time": "2017-12-30T11:26:28.496344Z"
    },
    "init_cell": true
   },
   "outputs": [],
   "source": [
    "likert_strongly_agree = [\"موافق برشا\",\n",
    "                         \"موافق(ة) برشا\",\n",
    "                         \"يهمني برشا شكون نختار\",\n",
    "                         \"يهمني برشا\",\n",
    "                         \"مختلفين على بعضهم\"\n",
    "                         ]\n",
    "\n",
    "likert_agree = [\"موافق\",\n",
    "                \"موافق(ة)\",\n",
    "                \"يهمني شكون نختار\",\n",
    "                \"يهمني\",\n",
    "                \"مختلفين على بعضهم مع شوية تشابه\"\n",
    "                ]\n",
    "\n",
    "likert_indifferent = [\"لا موافق(ة) لا مش موافق(ة)\",\n",
    "                      \"لاٍموافق(ة) لا مش موافق(ة)\",\n",
    "                      \"لاموافق(ة) لا مش موافق(ة)\",\n",
    "                      \"لا يهمني لا ميهمنيش شكون نختار\",\n",
    "                      \"لا يهمني لا ميهمنيش\",\n",
    "                      \"لا موافق لا مش موافق\",\n",
    "                      \"ما عنديش راى\"\n",
    "                      ]\n",
    "\n",
    "likert_disagree = [\"مش موافق\",\n",
    "                   \"مانيش موافق(ة)\",\n",
    "                   \"مش موافق(ة)\",\n",
    "                   \"مش موافق, مش موافق(ة)\",\n",
    "                   \"مايهمنيش\",\n",
    "                   \"مايهمنيش شكون نختار\",\n",
    "                   \"كيف كيف  مع شوية اختلاف\"\n",
    "                   ]\n",
    "likert_strongly_disagree = [\"مش موافق بالكل\",\n",
    "                            \"مش موافق(ة) بالكل\",\n",
    "                            \"مانيش موافق(ة) جملة\",\n",
    "                            \"مايهمنيش جملة\",\n",
    "                            \"مايهمنيش جملة شكون نختار\",\n",
    "                            \"كيف كيف\"\n",
    "                            ]"
   ]
  },
  {
   "cell_type": "code",
   "execution_count": 16,
   "metadata": {
    "ExecuteTime": {
     "end_time": "2017-12-30T11:26:28.538523Z",
     "start_time": "2017-12-30T11:26:28.522154Z"
    },
    "init_cell": true
   },
   "outputs": [],
   "source": [
    "likert_scale = {}\n",
    "for i in likert_strongly_agree:\n",
    "    likert_scale[i] = 5\n",
    "for i in likert_agree:\n",
    "    likert_scale[i] = 4\n",
    "for i in likert_indifferent:\n",
    "    likert_scale[i] = 3\n",
    "for i in likert_disagree:\n",
    "    likert_scale[i] = 2\n",
    "for i in likert_strongly_disagree:\n",
    "    likert_scale[i] = 1"
   ]
  },
  {
   "cell_type": "code",
   "execution_count": 17,
   "metadata": {
    "ExecuteTime": {
     "end_time": "2017-12-30T11:26:28.554760Z",
     "start_time": "2017-12-30T11:26:28.541983Z"
    },
    "init_cell": true
   },
   "outputs": [],
   "source": [
    "projective_coded = {\n",
    "    \"المجلس البلدي الحالي\": 0,\n",
    "    \"مجلس بلدي جديد\": 1\n",
    "}"
   ]
  },
  {
   "cell_type": "code",
   "execution_count": 18,
   "metadata": {
    "ExecuteTime": {
     "end_time": "2017-12-30T11:26:28.625963Z",
     "start_time": "2017-12-30T11:26:28.564350Z"
    },
    "init_cell": true
   },
   "outputs": [],
   "source": [
    "df.replace(likert_scale, inplace=True)\n",
    "df.replace(projective_coded, inplace=True)"
   ]
  },
  {
   "cell_type": "code",
   "execution_count": 19,
   "metadata": {
    "ExecuteTime": {
     "end_time": "2017-12-30T11:26:28.660115Z",
     "start_time": "2017-12-30T11:26:28.629419Z"
    },
    "init_cell": true
   },
   "outputs": [],
   "source": [
    "df.fillna(df.mean(), inplace=True)"
   ]
  }
 ],
 "metadata": {
  "celltoolbar": "Initialization Cell",
  "hide_input": false,
  "kernelspec": {
   "display_name": "Python 3",
   "language": "python",
   "name": "python3"
  },
  "language_info": {
   "codemirror_mode": {
    "name": "ipython",
    "version": 3
   },
   "file_extension": ".py",
   "mimetype": "text/x-python",
   "name": "python",
   "nbconvert_exporter": "python",
   "pygments_lexer": "ipython3",
   "version": "3.6.3"
  },
  "varInspector": {
   "cols": {
    "lenName": 16,
    "lenType": 16,
    "lenVar": 40
   },
   "kernels_config": {
    "python": {
     "delete_cmd_postfix": "",
     "delete_cmd_prefix": "del ",
     "library": "var_list.py",
     "varRefreshCmd": "print(var_dic_list())"
    },
    "r": {
     "delete_cmd_postfix": ") ",
     "delete_cmd_prefix": "rm(",
     "library": "var_list.r",
     "varRefreshCmd": "cat(var_dic_list()) "
    }
   },
   "types_to_exclude": [
    "module",
    "function",
    "builtin_function_or_method",
    "instance",
    "_Feature"
   ],
   "window_display": false
  }
 },
 "nbformat": 4,
 "nbformat_minor": 2
}
