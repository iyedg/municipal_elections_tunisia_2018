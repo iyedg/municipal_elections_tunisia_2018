{
 "cells": [
  {
   "cell_type": "markdown",
   "metadata": {},
   "source": [
    "# Data preparation"
   ]
  },
  {
   "cell_type": "markdown",
   "metadata": {},
   "source": [
    "## Load data"
   ]
  },
  {
   "cell_type": "code",
   "execution_count": 1,
   "metadata": {
    "ExecuteTime": {
     "end_time": "2018-01-01T09:27:55.359755Z",
     "start_time": "2018-01-01T09:27:55.131966Z"
    },
    "init_cell": true
   },
   "outputs": [],
   "source": [
    "from oauth2client.service_account import ServiceAccountCredentials\n",
    "import gspread"
   ]
  },
  {
   "cell_type": "code",
   "execution_count": 2,
   "metadata": {
    "ExecuteTime": {
     "end_time": "2018-01-01T09:27:55.905359Z",
     "start_time": "2018-01-01T09:27:55.363292Z"
    },
    "init_cell": true
   },
   "outputs": [],
   "source": [
    "import pandas as pd\n",
    "import numpy as np"
   ]
  },
  {
   "cell_type": "code",
   "execution_count": 3,
   "metadata": {
    "ExecuteTime": {
     "end_time": "2018-01-01T09:27:55.919645Z",
     "start_time": "2018-01-01T09:27:55.908892Z"
    },
    "init_cell": true
   },
   "outputs": [],
   "source": [
    "def load_sheet():\n",
    "    SHEET_NAME = \"التوانسة كفاه ينتخبوا؟ (Responses)\"\n",
    "    KEY_FILENAME = \"cred.json\"\n",
    "    scope = ['https://spreadsheets.google.com/feeds']\n",
    "    credentials = ServiceAccountCredentials.from_json_keyfile_name(\n",
    "        KEY_FILENAME, scope)\n",
    "    gc = gspread.authorize(credentials)\n",
    "    return gc.open(SHEET_NAME).sheet1"
   ]
  },
  {
   "cell_type": "code",
   "execution_count": 4,
   "metadata": {
    "ExecuteTime": {
     "end_time": "2018-01-01T09:28:00.301854Z",
     "start_time": "2018-01-01T09:27:55.923222Z"
    },
    "init_cell": true
   },
   "outputs": [],
   "source": [
    "sheet = load_sheet()"
   ]
  },
  {
   "cell_type": "code",
   "execution_count": 5,
   "metadata": {
    "ExecuteTime": {
     "end_time": "2018-01-01T09:28:00.354177Z",
     "start_time": "2018-01-01T09:28:00.306590Z"
    },
    "init_cell": true
   },
   "outputs": [],
   "source": [
    "columns = {\n",
    "    \"Timestamp\": \"timestamp\",\n",
    "    \"فيما يتعلق بتوقعاتي، أنا نحس أداء المجلس البلدي الحالي  مخيّب للآمال [‌‌]\": \"satisfaction_overall_1\",\n",
    "    \"بعد الانتخابات الأخيرة، أنا في أغلب الأوقات نحس بخيبة أمل أكثر ملّي نحس برضا على أداء المجلس البلدي [‌‌]\": \"satisfaction_overall_2\",\n",
    "    \"بصفة عامّة، أنا راضي(ة) على أداء المجلس البلدي الحالي [‌‌]\": \"satisfaction_overall_3\",\n",
    "    \"فيما يتعلق بتوقعاتي،  نحس تعامل المجلس البلدي الحالي مع الفساد  مخيّب للآمال [‌‌]\": \"satisfaction_corruption_1\",\n",
    "    \"بعد الانتخابات الأخيرة، أنا في أغلب الأوقات نحس بخيبة أمل أكثر ملّي نحس برضا على أداء المجلس البلدي في التعامل مع الفساد [‌‌]\": \"satisfaction_corruption_2\",\n",
    "    \"بصفة عامة، أنا راضي(ة) على أداء المجلس البلدي الحالي في التعامل مع الفساد [‌‌]\": \"satisfaction_corruption_3\",\n",
    "    \"فيما يتعلق بتوقعاتي،  نحس تعامل المجلس البلدي الحالي مع البنية التّحتيّة و تطويرها مخيّب للآمال [‌‌]\": \"satisfaction_infrastructure_1\",\n",
    "    \"بعد الانتخابات الأخيرة، أنا في أغلب الأوقات نحسّ بخيبة أمل أكثر ملّي نحس برضا على أداء المجلس البلدي في التعامل مع البنية التّحتيّة وتطويرها [‌‌]\": \"satisfaction_infrastructure_2\",\n",
    "    \"بصفة عامة، أنا راضي(ة) على أداء المجلس البلدي الحالي في  التعامل مع البنية التّحتيّة وتطويرها [‌‌]\": \"satisfaction_infrastructure_3\",\n",
    "    \"فيما يتعلق بتوقعاتي،  نحس تعامل المجلس البلدي الحالي مع الشّفافيّة  مخيّب للآمال [‌‌]\": \"satisfaction_transparency_1\",\n",
    "    \"بعد الانتخابات الأخيرة، أنا في أغلب الأوقات نحسّ بخيبة أمل أكثر ملّي نحس برضا على أداء المجلس البلدي في التعامل مع الشّفافيّة [‌‌]\": \"satisfaction_transparency_2\",\n",
    "    \"بصفة عامة، أنا راضي(ة) على أداء المجلس البلدي الحالي في  التعامل مع الشّفافيّة [‌‌]\": \"satisfaction_transparency_3\",\n",
    "    \"ديما بش نختار مرشحي/مرشحتى و الا حزبي قبل المنافسين [‌‌]\": \"loyalty_1\",\n",
    "    \"ديما بش نفضل افكار  مرشحي/مرشحتى و الا حزبي قبل المنافسين [‌‌]\": \"loyalty_2\",\n",
    "    \"ديما بش نختار توجّهات  مرشحي/مرشحتى و الا حزبي قبل توجّهات  المنافسين [‌‌]\": \"loyalty_3\",\n",
    "    \"ديما بش نصوّت لمرشحي/لمرشحتى و الا حزبي ضد المنافسين [‌‌]\": \"loyalty_4\",\n",
    "    \"وقت اللي نختار المترشحين و القوائم المترشحة للإنتخبات نقول [‌‌]\": \"involvement_1\",\n",
    "    \"هل ترى انو  الأفراد و القوائم المترشحة للإنتخبات الكل كيف كيف ولا يفرقو على بعضهم؟  [‌‌]\": \"involvement_2\",\n",
    "    \"قداش يهمك انك تختار المترشح(ة) او القائمة المناسبة ؟ [‌‌]\": \"involvement_3\",\n",
    "    \"قداش يهمك تاثير خيارك على نتيجة الانتخابات البلدية ؟ [‌‌]\": \"involvement_4\",\n",
    "    \" حسب رايك، في شكون عندك الثقة إنو ينجم يحقق الشفافية: المجلس البلدي الحالي متاع منطقتك او مجلس بلدي جديد؟\": \"projective_decision_1\",\n",
    "    \" حسب رايك،  في شكون عندك الثقة إنو ينجم يحسن البنية التحتية:   المجلس البلدي الحالي متاع منطقتك او مجلس بلدي جديد؟\": \"projective_decision_2\",\n",
    "    \" حسب رايك، في شكون عندك الثقة  إنو ينجم يحارب  الفساد: المجلس البلدي الحالي متاع منطقتك او مجلس بلدي جديد؟\": \"projective_decision_3\",\n",
    "    \"حسب رايك، في شكون عندك الثقة إنو ينجم يعطي احسن مردود: المجلس البلدي الحالي  او مجلس بلدي جديد؟\": \"projective_decision_4\",\n",
    "    \"بالنسبة لي، الأخبار التلفزيونية مصدر مهم للمعلومات في الانتخابات البلدية [‌‌]\": \"external_information_1\",\n",
    "    \"بالنسبة لي،  الجرائد و المجلّات مصدر مهم للمعلومات بالنسبة للإنتخابات البلدية [‌‌]\": \"external_information_2\",\n",
    "    \"بالنسبة لي، الإنترنت مصدر مهم للمعلومات بالنسبة للإنتخابات البلدية [‌‌]\": \"external_information_3\",\n",
    "    \"بالنسبة لي، الدعاية السياسية هي مصدر مهم للمعلومات بالنسبة للإنتخابات البلدية [‌‌]\": \"external_information_4\",\n",
    "    \"بالنسبة لي، الناس الآخرين (الصحاب،العايلة الخ) هوما مصدر مهم للمعلومات بالنسبة للإنتخابات البلدية [‌‌]\": \"external_information_5\",\n",
    "    \"أنا واثق إني  باش نختار القائمة الانتخابية الصحيحة في الانتخابات البلدية الجاية [‌‌]\": \"confidence_1\",\n",
    "    \"عندي ثقة في قدرتي باش ناخذ القرار الصحيح كيف نختار لشكون باش نصوت في الانتخابات البلدية [‌‌]\": \"confidence_2\",\n",
    "    \"عندي ثقة في قدرتي باش نختار لشكون باش نصوت في الانتخابات البلدية [‌‌]\": \"confidence_3\",\n",
    "    \"قداش عمرك ؟\": \"age\",\n",
    "    \"الجنس\": \"gender\",\n",
    "    \"شنوّة مستواك التّعليمي ؟\": \"education\",\n",
    "    \"قدّاش الدخل الشّهري لعايلتك؟\": \"income\",\n",
    "    \"ما هي حالتك الاجتماعية؟\": \"marital_status\",\n",
    "    \"في انا قطاع تخدم؟\": \"employment\",\n",
    "    \"شنوة اسم البلدية الي تسكن فيها\": \"residence\",\n",
    "    \"فيما يتعلق بتوقعاتي، أنا نحس أداء المجلس البلدي الحالي  مخيّب للآمال [Row 2]\": \"satisfaction_overall_1_bis\"\n",
    "}"
   ]
  },
  {
   "cell_type": "code",
   "execution_count": 6,
   "metadata": {
    "ExecuteTime": {
     "end_time": "2018-01-01T09:28:18.500639Z",
     "start_time": "2018-01-01T09:28:00.356458Z"
    },
    "init_cell": true
   },
   "outputs": [],
   "source": [
    "df = pd.DataFrame(sheet.get_all_records())\n",
    "df.rename(columns=columns, inplace=True)"
   ]
  },
  {
   "cell_type": "code",
   "execution_count": 7,
   "metadata": {
    "ExecuteTime": {
     "end_time": "2018-01-01T09:28:18.519679Z",
     "start_time": "2018-01-01T09:28:18.503243Z"
    },
    "init_cell": true
   },
   "outputs": [],
   "source": [
    "df.replace({\"\": np.nan}, inplace=True)"
   ]
  },
  {
   "cell_type": "markdown",
   "metadata": {},
   "source": [
    "## Recode values"
   ]
  },
  {
   "cell_type": "markdown",
   "metadata": {},
   "source": [
    "### Recode demographic / socioeconomic values"
   ]
  },
  {
   "cell_type": "code",
   "execution_count": 8,
   "metadata": {
    "ExecuteTime": {
     "end_time": "2018-01-01T09:28:18.531574Z",
     "start_time": "2018-01-01T09:28:18.523951Z"
    },
    "init_cell": true
   },
   "outputs": [],
   "source": [
    "df.age.replace({\n",
    "    \"أكثر من 64\": \">64\"\n",
    "},\n",
    "    inplace=True)"
   ]
  },
  {
   "cell_type": "code",
   "execution_count": 9,
   "metadata": {
    "ExecuteTime": {
     "end_time": "2018-01-01T09:28:18.545864Z",
     "start_time": "2018-01-01T09:28:18.535969Z"
    },
    "init_cell": true
   },
   "outputs": [],
   "source": [
    "df.education.replace({\n",
    "    \"ثانوي\": \"Highschool\",\n",
    "    \"الجامعي\": \"Undergraduate\",\n",
    "    \"الدراسات العليا\": \"Post-graduate\",\n",
    "    \"أمي(ة)\": \"Illiterate\",\n",
    "}, inplace=True)"
   ]
  },
  {
   "cell_type": "code",
   "execution_count": 10,
   "metadata": {
    "ExecuteTime": {
     "end_time": "2018-01-01T09:28:18.573411Z",
     "start_time": "2018-01-01T09:28:18.551449Z"
    },
    "init_cell": true
   },
   "outputs": [],
   "source": [
    "df.employment.replace({\n",
    "    \"مسؤول(ة)\": \"Senior official\",\n",
    "    \"موظف(ة) إداري(ة)\": \"Administrative employee\",\n",
    "    \"موظف إداري\": \"Administrative employee\",\n",
    "    \"باعث(ة) مشروع ، فلاح(ة) ، تاجر(ة)\": \"Liberal, agriculturer or merchant\",\n",
    "    \"باعث مشروع ، فلاح ، تاجر\": \"Liberal, agriculturer or merchant\",\n",
    "    \"بطّال(ة)\": \"Unemployed\",\n",
    "    \"في الدّار (أب أو أم)\": \"Stay at home parent\",\n",
    "    \"طالب(ة)\": \"Student\",\n",
    "    \"étudiant \": \"Student\",\n",
    "    \"متقاعد(ة)\": \"Retired\"\n",
    "}, inplace=True)"
   ]
  },
  {
   "cell_type": "code",
   "execution_count": 11,
   "metadata": {
    "ExecuteTime": {
     "end_time": "2018-01-01T09:28:18.581840Z",
     "start_time": "2018-01-01T09:28:18.576237Z"
    },
    "init_cell": true
   },
   "outputs": [],
   "source": [
    "df.gender.replace({\n",
    "    \"أنثى\": \"F\",\n",
    "    \"ذكر\": \"M\"\n",
    "}, inplace=True)"
   ]
  },
  {
   "cell_type": "code",
   "execution_count": 12,
   "metadata": {
    "ExecuteTime": {
     "end_time": "2018-01-01T09:28:18.595304Z",
     "start_time": "2018-01-01T09:28:18.585488Z"
    },
    "init_cell": true
   },
   "outputs": [],
   "source": [
    "df.income.replace({\n",
    "    \"أقل من 600\": \"<600\",\n",
    "    \"بين 600 و1200\": \"600-1200\",\n",
    "    \"اكثر من 1200\": \">1200\"\n",
    "}, inplace=True)"
   ]
  },
  {
   "cell_type": "code",
   "execution_count": 13,
   "metadata": {
    "ExecuteTime": {
     "end_time": "2018-01-01T09:28:18.610944Z",
     "start_time": "2018-01-01T09:28:18.599761Z"
    },
    "init_cell": true
   },
   "outputs": [],
   "source": [
    "df.marital_status.replace({\n",
    "    \"عازب(ة)\": \"Single\",\n",
    "    \"عازب\": \"Single\",\n",
    "    \"متزوج(ة)\": \"Married\",\n",
    "    \"متزوج\": \"Married\",\n",
    "    \"مطلق(ة)\": \"Divorced\",\n",
    "    \"أرمل(ة)\": \"Widowed\"\n",
    "}, inplace=True)"
   ]
  },
  {
   "cell_type": "markdown",
   "metadata": {},
   "source": [
    "### Recode attitudinal columns (Likert scale)"
   ]
  },
  {
   "cell_type": "code",
   "execution_count": 14,
   "metadata": {
    "ExecuteTime": {
     "end_time": "2018-01-01T09:28:18.622676Z",
     "start_time": "2018-01-01T09:28:18.615099Z"
    },
    "init_cell": true
   },
   "outputs": [],
   "source": [
    "exclude = set([\"satisfaction_overall_1_bis\", \"timestamp\", \"residence\",\n",
    "               \"employment\", \"marital_status\", \"gender\", \"age\", \"income\",\n",
    "               \"education\"])\n",
    "include = list(set(df.columns).difference(exclude))"
   ]
  },
  {
   "cell_type": "code",
   "execution_count": 15,
   "metadata": {
    "ExecuteTime": {
     "end_time": "2018-01-01T09:28:18.648172Z",
     "start_time": "2018-01-01T09:28:18.626594Z"
    },
    "init_cell": true
   },
   "outputs": [],
   "source": [
    "likert_strongly_agree = [\"موافق برشا\",\n",
    "                         \"موافق(ة) برشا\",\n",
    "                         \"يهمني برشا شكون نختار\",\n",
    "                         \"يهمني برشا\",\n",
    "                         \"مختلفين على بعضهم\"\n",
    "                         ]\n",
    "\n",
    "likert_agree = [\"موافق\",\n",
    "                \"موافق(ة)\",\n",
    "                \"يهمني شكون نختار\",\n",
    "                \"يهمني\",\n",
    "                \"مختلفين على بعضهم مع شوية تشابه\"\n",
    "                ]\n",
    "\n",
    "likert_indifferent = [\"لا موافق(ة) لا مش موافق(ة)\",\n",
    "                      \"لاٍموافق(ة) لا مش موافق(ة)\",\n",
    "                      \"لاموافق(ة) لا مش موافق(ة)\",\n",
    "                      \"لا يهمني لا ميهمنيش شكون نختار\",\n",
    "                      \"لا يهمني لا ميهمنيش\",\n",
    "                      \"لا موافق لا مش موافق\",\n",
    "                      \"ما عنديش راى\"\n",
    "                      ]\n",
    "\n",
    "likert_disagree = [\"مش موافق\",\n",
    "                   \"مانيش موافق(ة)\",\n",
    "                   \"مش موافق(ة)\",\n",
    "                   \"مش موافق, مش موافق(ة)\",\n",
    "                   \"مايهمنيش\",\n",
    "                   \"مايهمنيش شكون نختار\",\n",
    "                   \"كيف كيف  مع شوية اختلاف\"\n",
    "                   ]\n",
    "likert_strongly_disagree = [\"مش موافق بالكل\",\n",
    "                            \"مش موافق(ة) بالكل\",\n",
    "                            \"مانيش موافق(ة) جملة\",\n",
    "                            \"مايهمنيش جملة\",\n",
    "                            \"مايهمنيش جملة شكون نختار\",\n",
    "                            \"كيف كيف\"\n",
    "                            ]"
   ]
  },
  {
   "cell_type": "code",
   "execution_count": 16,
   "metadata": {
    "ExecuteTime": {
     "end_time": "2018-01-01T09:28:18.670520Z",
     "start_time": "2018-01-01T09:28:18.651355Z"
    },
    "init_cell": true
   },
   "outputs": [],
   "source": [
    "likert_scale = {}\n",
    "for i in likert_strongly_agree:\n",
    "    likert_scale[i] = 5\n",
    "for i in likert_agree:\n",
    "    likert_scale[i] = 4\n",
    "for i in likert_indifferent:\n",
    "    likert_scale[i] = 3\n",
    "for i in likert_disagree:\n",
    "    likert_scale[i] = 2\n",
    "for i in likert_strongly_disagree:\n",
    "    likert_scale[i] = 1"
   ]
  },
  {
   "cell_type": "code",
   "execution_count": 17,
   "metadata": {
    "ExecuteTime": {
     "end_time": "2018-01-01T09:28:18.679637Z",
     "start_time": "2018-01-01T09:28:18.675128Z"
    },
    "init_cell": true
   },
   "outputs": [],
   "source": [
    "projective_coded = {\n",
    "    \"المجلس البلدي الحالي\": 0,\n",
    "    \"مجلس بلدي جديد\": 1\n",
    "}"
   ]
  },
  {
   "cell_type": "code",
   "execution_count": 18,
   "metadata": {
    "ExecuteTime": {
     "end_time": "2018-01-01T09:28:18.739698Z",
     "start_time": "2018-01-01T09:28:18.683456Z"
    },
    "init_cell": true
   },
   "outputs": [],
   "source": [
    "df.replace(likert_scale, inplace=True)\n",
    "df.replace(projective_coded, inplace=True)"
   ]
  },
  {
   "cell_type": "code",
   "execution_count": 19,
   "metadata": {
    "ExecuteTime": {
     "end_time": "2018-01-01T09:28:18.777507Z",
     "start_time": "2018-01-01T09:28:18.742580Z"
    },
    "init_cell": true
   },
   "outputs": [],
   "source": [
    "df.fillna(df.mean(), inplace=True)"
   ]
  },
  {
   "cell_type": "markdown",
   "metadata": {},
   "source": [
    "## Measured constructs"
   ]
  },
  {
   "cell_type": "markdown",
   "metadata": {},
   "source": [
    "### Overall satisfaction"
   ]
  },
  {
   "cell_type": "code",
   "execution_count": 20,
   "metadata": {
    "ExecuteTime": {
     "end_time": "2018-01-01T09:28:18.787157Z",
     "start_time": "2018-01-01T09:28:18.780882Z"
    },
    "init_cell": true
   },
   "outputs": [],
   "source": [
    "n_variables = 3\n",
    "satisfaction_overall_variables = [\n",
    "    \"satisfaction_overall_{}\".format(i) for i in range(1, n_variables + 1)]\n",
    "satisfaction_overall = df[satisfaction_overall_variables]"
   ]
  },
  {
   "cell_type": "markdown",
   "metadata": {
    "ExecuteTime": {
     "end_time": "2017-12-30T11:57:40.817035Z",
     "start_time": "2017-12-30T11:57:40.737160Z"
    }
   },
   "source": [
    "### Satisfaction with handling corruption"
   ]
  },
  {
   "cell_type": "code",
   "execution_count": 21,
   "metadata": {
    "ExecuteTime": {
     "end_time": "2018-01-01T09:28:18.802603Z",
     "start_time": "2018-01-01T09:28:18.791957Z"
    },
    "init_cell": true
   },
   "outputs": [],
   "source": [
    "n_variables = 3\n",
    "satisfaction_corruption_variables = [\n",
    "    \"satisfaction_corruption_{}\".format(i) for i in range(1, n_variables + 1)]\n",
    "satisfaction_corruption = df[satisfaction_corruption_variables]"
   ]
  },
  {
   "cell_type": "markdown",
   "metadata": {
    "ExecuteTime": {
     "end_time": "2017-12-30T12:00:57.880235Z",
     "start_time": "2017-12-30T12:00:57.833636Z"
    }
   },
   "source": [
    "### Satisfaction with handling infrastructure\n"
   ]
  },
  {
   "cell_type": "code",
   "execution_count": 22,
   "metadata": {
    "ExecuteTime": {
     "end_time": "2018-01-01T09:28:18.819796Z",
     "start_time": "2018-01-01T09:28:18.809283Z"
    },
    "init_cell": true
   },
   "outputs": [],
   "source": [
    "n_variables = 3\n",
    "satisfaction_infrastructure_variables = [\n",
    "    \"satisfaction_infrastructure_{}\".format(i) for i in range(1, n_variables + 1)]\n",
    "satisfaction_infrastructure = df[satisfaction_infrastructure_variables]"
   ]
  },
  {
   "cell_type": "markdown",
   "metadata": {},
   "source": [
    "### Satisfaction with handling transparency"
   ]
  },
  {
   "cell_type": "code",
   "execution_count": 23,
   "metadata": {
    "ExecuteTime": {
     "end_time": "2018-01-01T09:28:18.836286Z",
     "start_time": "2018-01-01T09:28:18.826298Z"
    },
    "init_cell": true
   },
   "outputs": [],
   "source": [
    "n_variables = 3\n",
    "satisfaction_transparency_variables = [\n",
    "    \"satisfaction_transparency_{}\".format(i) for i in range(1, n_variables + 1)]\n",
    "satisfaction_transparency = df[satisfaction_transparency_variables]"
   ]
  },
  {
   "cell_type": "markdown",
   "metadata": {},
   "source": [
    "### Projective decision"
   ]
  },
  {
   "cell_type": "code",
   "execution_count": 24,
   "metadata": {
    "ExecuteTime": {
     "end_time": "2018-01-01T09:28:18.853537Z",
     "start_time": "2018-01-01T09:28:18.840610Z"
    },
    "init_cell": true
   },
   "outputs": [],
   "source": [
    "n_variables = 4\n",
    "projective_decision_variables = [\n",
    "    \"projective_decision_{}\".format(i) for i in range(1, n_variables + 1)]\n",
    "projective_decision = df[projective_decision_variables]"
   ]
  },
  {
   "cell_type": "markdown",
   "metadata": {},
   "source": [
    "### Loyalty"
   ]
  },
  {
   "cell_type": "code",
   "execution_count": 25,
   "metadata": {
    "ExecuteTime": {
     "end_time": "2018-01-01T09:28:18.868665Z",
     "start_time": "2018-01-01T09:28:18.858610Z"
    },
    "init_cell": true
   },
   "outputs": [],
   "source": [
    "n_variables = 4\n",
    "loyalty_variables = [\"loyalty_{}\".format(i) for i in range(1, n_variables + 1)]\n",
    "loyalty = df[loyalty_variables]"
   ]
  },
  {
   "cell_type": "markdown",
   "metadata": {},
   "source": [
    "### Involvement with the decision"
   ]
  },
  {
   "cell_type": "code",
   "execution_count": 26,
   "metadata": {
    "ExecuteTime": {
     "end_time": "2018-01-01T09:28:18.888033Z",
     "start_time": "2018-01-01T09:28:18.872531Z"
    },
    "init_cell": true
   },
   "outputs": [],
   "source": [
    "n_variables = 4\n",
    "involvement_variables = [\"involvement_{}\".format(\n",
    "    i) for i in range(1, n_variables + 1)]\n",
    "involvement = df[involvement_variables]"
   ]
  },
  {
   "cell_type": "markdown",
   "metadata": {},
   "source": [
    "### Confidence (voter)"
   ]
  },
  {
   "cell_type": "code",
   "execution_count": 27,
   "metadata": {
    "ExecuteTime": {
     "end_time": "2018-01-01T09:28:18.903814Z",
     "start_time": "2018-01-01T09:28:18.892333Z"
    },
    "init_cell": true
   },
   "outputs": [],
   "source": [
    "n_variables = 3\n",
    "confidence_variables = [\"confidence_{}\".format(\n",
    "    i) for i in range(1, n_variables + 1)]\n",
    "confidence = df[confidence_variables]"
   ]
  },
  {
   "cell_type": "markdown",
   "metadata": {},
   "source": [
    "### Value of external information"
   ]
  },
  {
   "cell_type": "code",
   "execution_count": 28,
   "metadata": {
    "ExecuteTime": {
     "end_time": "2018-01-01T09:28:18.918332Z",
     "start_time": "2018-01-01T09:28:18.908228Z"
    },
    "init_cell": true
   },
   "outputs": [],
   "source": [
    "n_variables = 5\n",
    "external_information_variables = [\n",
    "    \"external_information_{}\".format(i) for i in range(1, n_variables + 1)]\n",
    "external_information = df[external_information_variables]"
   ]
  },
  {
   "cell_type": "markdown",
   "metadata": {},
   "source": [
    "## Score variables"
   ]
  },
  {
   "cell_type": "code",
   "execution_count": 29,
   "metadata": {
    "ExecuteTime": {
     "end_time": "2018-01-01T09:28:18.928906Z",
     "start_time": "2018-01-01T09:28:18.922364Z"
    },
    "init_cell": true
   },
   "outputs": [],
   "source": [
    "def score(construct):\n",
    "    return construct.mean(axis=1)"
   ]
  },
  {
   "cell_type": "markdown",
   "metadata": {},
   "source": [
    "### Overall satisfaction"
   ]
  },
  {
   "cell_type": "code",
   "execution_count": 30,
   "metadata": {
    "ExecuteTime": {
     "end_time": "2018-01-01T09:28:18.939727Z",
     "start_time": "2018-01-01T09:28:18.933323Z"
    },
    "init_cell": true
   },
   "outputs": [],
   "source": [
    "df[\"satisfaction_overall_score\"] = score(satisfaction_overall)"
   ]
  },
  {
   "cell_type": "markdown",
   "metadata": {
    "ExecuteTime": {
     "end_time": "2017-12-30T16:39:11.032438Z",
     "start_time": "2017-12-30T16:39:11.017319Z"
    }
   },
   "source": [
    "### Satisfaction with handling corruption"
   ]
  },
  {
   "cell_type": "code",
   "execution_count": 31,
   "metadata": {
    "ExecuteTime": {
     "end_time": "2018-01-01T09:28:18.949922Z",
     "start_time": "2018-01-01T09:28:18.943657Z"
    },
    "init_cell": true
   },
   "outputs": [],
   "source": [
    "df[\"satisfaction_corruption_score\"] = score(satisfaction_corruption)"
   ]
  },
  {
   "cell_type": "markdown",
   "metadata": {},
   "source": [
    "### Satisfaction with handling transparency"
   ]
  },
  {
   "cell_type": "code",
   "execution_count": 32,
   "metadata": {
    "ExecuteTime": {
     "end_time": "2018-01-01T09:28:18.960247Z",
     "start_time": "2018-01-01T09:28:18.953906Z"
    },
    "init_cell": true
   },
   "outputs": [],
   "source": [
    "df[\"satisfaction_transparency_score\"] = score(satisfaction_transparency)"
   ]
  },
  {
   "cell_type": "markdown",
   "metadata": {},
   "source": [
    "### Satisfaction with handling infrastructure"
   ]
  },
  {
   "cell_type": "code",
   "execution_count": 33,
   "metadata": {
    "ExecuteTime": {
     "end_time": "2018-01-01T09:28:18.970456Z",
     "start_time": "2018-01-01T09:28:18.964165Z"
    },
    "init_cell": true
   },
   "outputs": [],
   "source": [
    "df[\"satisfaction_infrastructure_score\"] = score(satisfaction_infrastructure)"
   ]
  },
  {
   "cell_type": "markdown",
   "metadata": {
    "ExecuteTime": {
     "end_time": "2017-12-30T16:55:38.395560Z",
     "start_time": "2017-12-30T16:55:38.218070Z"
    },
    "init_cell": true
   },
   "source": [
    "### Projective decision"
   ]
  },
  {
   "cell_type": "code",
   "execution_count": 34,
   "metadata": {
    "ExecuteTime": {
     "end_time": "2018-01-01T09:28:18.980802Z",
     "start_time": "2018-01-01T09:28:18.974331Z"
    },
    "init_cell": true
   },
   "outputs": [],
   "source": [
    "df[\"projective_decision_score\"] = score(projective_decision)"
   ]
  },
  {
   "cell_type": "markdown",
   "metadata": {},
   "source": [
    "### Loyalty"
   ]
  },
  {
   "cell_type": "code",
   "execution_count": 35,
   "metadata": {
    "ExecuteTime": {
     "end_time": "2018-01-01T09:28:18.990868Z",
     "start_time": "2018-01-01T09:28:18.984710Z"
    },
    "init_cell": true
   },
   "outputs": [],
   "source": [
    "df[\"loyalty_score\"] = score(loyalty)"
   ]
  },
  {
   "cell_type": "markdown",
   "metadata": {},
   "source": [
    "### Involvement with the decision"
   ]
  },
  {
   "cell_type": "code",
   "execution_count": 36,
   "metadata": {
    "ExecuteTime": {
     "end_time": "2018-01-01T09:28:19.001013Z",
     "start_time": "2018-01-01T09:28:18.994739Z"
    },
    "init_cell": true
   },
   "outputs": [],
   "source": [
    "df[\"involvement_score\"] = score(involvement)"
   ]
  },
  {
   "cell_type": "markdown",
   "metadata": {},
   "source": [
    "### Confidence (voter)"
   ]
  },
  {
   "cell_type": "code",
   "execution_count": 37,
   "metadata": {
    "ExecuteTime": {
     "end_time": "2018-01-01T09:28:19.010985Z",
     "start_time": "2018-01-01T09:28:19.004760Z"
    },
    "init_cell": true
   },
   "outputs": [],
   "source": [
    "df[\"confidence_score\"] = score(confidence)"
   ]
  },
  {
   "cell_type": "markdown",
   "metadata": {
    "ExecuteTime": {
     "end_time": "2018-01-01T09:28:35.965341Z",
     "start_time": "2018-01-01T09:28:35.962296Z"
    }
   },
   "source": [
    "# Analysis"
   ]
  },
  {
   "cell_type": "code",
   "execution_count": 49,
   "metadata": {
    "ExecuteTime": {
     "end_time": "2018-01-01T09:46:16.994689Z",
     "start_time": "2018-01-01T09:46:16.982743Z"
    }
   },
   "outputs": [],
   "source": [
    "import seaborn as sns\n",
    "import scipy.stats as stats\n",
    "sns.set_style(\"whitegrid\")"
   ]
  },
  {
   "cell_type": "markdown",
   "metadata": {},
   "source": [
    "## Crosstab analysis"
   ]
  },
  {
   "cell_type": "markdown",
   "metadata": {},
   "source": [
    "### Gender and employment"
   ]
  },
  {
   "cell_type": "code",
   "execution_count": 46,
   "metadata": {
    "ExecuteTime": {
     "end_time": "2018-01-01T09:38:54.707306Z",
     "start_time": "2018-01-01T09:38:54.339845Z"
    }
   },
   "outputs": [
    {
     "data": {
      "image/png": "[encoded data removed]",
      "text/plain": [
       "<matplotlib.figure.Figure at 0x7f608b0dab38>"
      ]
     },
     "metadata": {},
     "output_type": "display_data"
    }
   ],
   "source": [
    "sns.heatmap(pd.crosstab(df.employment, df.gender, normalize=True), annot=True)"
   ]
  },
  {
   "cell_type": "markdown",
   "metadata": {},
   "source": [
    "## Age and employment"
   ]
  },
  {
   "cell_type": "code",
   "execution_count": 47,
   "metadata": {
    "ExecuteTime": {
     "end_time": "2018-01-01T09:42:37.284247Z",
     "start_time": "2018-01-01T09:42:36.765949Z"
    }
   },
   "outputs": [
    {
     "data": {
      "image/png": "[encoded data removed]",
      "text/plain": [
       "<matplotlib.figure.Figure at 0x7f608b0dcc50>"
      ]
     },
     "metadata": {},
     "output_type": "display_data"
    }
   ],
   "source": [
    "sns.heatmap(pd.crosstab(df.age, df.employment, normalize=True), annot=True)"
   ]
  },
  {
   "cell_type": "markdown",
   "metadata": {
    "ExecuteTime": {
     "end_time": "2018-01-01T09:44:24.911404Z",
     "start_time": "2018-01-01T09:44:24.902346Z"
    }
   },
   "source": [
    "## ANOVA"
   ]
  },
  {
   "cell_type": "code",
   "execution_count": 100,
   "metadata": {
    "ExecuteTime": {
     "end_time": "2018-01-01T10:23:05.625204Z",
     "start_time": "2018-01-01T10:23:05.611001Z"
    },
    "scrolled": true
   },
   "outputs": [],
   "source": [
    "def anova(categorical, continuous):\n",
    "    groups = df[[categorical, continuous]].groupby(categorical).groups\n",
    "    continuous_groups = list(\n",
    "        map(lambda group: df[continuous].iloc[groups[group]], groups))\n",
    "    return stats.f_oneway(*continuous_groups)"
   ]
  },
  {
   "cell_type": "markdown",
   "metadata": {},
   "source": [
    "### Overall satisfaction"
   ]
  },
  {
   "cell_type": "markdown",
   "metadata": {},
   "source": [
    "#### ANOVA between overall satisfaction and gender"
   ]
  },
  {
   "cell_type": "code",
   "execution_count": 105,
   "metadata": {
    "ExecuteTime": {
     "end_time": "2018-01-01T10:25:11.762347Z",
     "start_time": "2018-01-01T10:25:11.750701Z"
    }
   },
   "outputs": [
    {
     "data": {
      "text/plain": [
       "F_onewayResult(statistic=0.18434509357413398, pvalue=0.66829835314848729)"
      ]
     },
     "execution_count": 105,
     "metadata": {},
     "output_type": "execute_result"
    }
   ],
   "source": [
    "anova(categorical=\"gender\", continuous=\"satisfaction_overall_score\")"
   ]
  },
  {
   "cell_type": "markdown",
   "metadata": {},
   "source": [
    "#### ANOVA between overall satisfaction and age"
   ]
  },
  {
   "cell_type": "code",
   "execution_count": 106,
   "metadata": {
    "ExecuteTime": {
     "end_time": "2018-01-01T10:28:20.740796Z",
     "start_time": "2018-01-01T10:28:20.730468Z"
    }
   },
   "outputs": [
    {
     "data": {
      "text/plain": [
       "F_onewayResult(statistic=0.64377425284226297, pvalue=0.66667020065733462)"
      ]
     },
     "execution_count": 106,
     "metadata": {},
     "output_type": "execute_result"
    }
   ],
   "source": [
    "anova(\"age\", \"satisfaction_overall_score\")"
   ]
  },
  {
   "cell_type": "markdown",
   "metadata": {},
   "source": [
    "#### ANOVA between overall satisfaction and employment"
   ]
  },
  {
   "cell_type": "code",
   "execution_count": 107,
   "metadata": {
    "ExecuteTime": {
     "end_time": "2018-01-01T10:29:03.924226Z",
     "start_time": "2018-01-01T10:29:03.904982Z"
    }
   },
   "outputs": [
    {
     "data": {
      "text/plain": [
       "F_onewayResult(statistic=1.3798000320595192, pvalue=0.22676150749583723)"
      ]
     },
     "execution_count": 107,
     "metadata": {},
     "output_type": "execute_result"
    }
   ],
   "source": [
    "anova(\"employment\", \"satisfaction_overall_score\")"
   ]
  },
  {
   "cell_type": "markdown",
   "metadata": {},
   "source": [
    "#### ANOVA between overall satisfaction and marital status"
   ]
  },
  {
   "cell_type": "code",
   "execution_count": 131,
   "metadata": {
    "ExecuteTime": {
     "end_time": "2018-01-01T12:47:28.432640Z",
     "start_time": "2018-01-01T12:47:28.413114Z"
    }
   },
   "outputs": [
    {
     "data": {
      "text/plain": [
       "F_onewayResult(statistic=0.20859916531766895, pvalue=0.64854635699831542)"
      ]
     },
     "execution_count": 131,
     "metadata": {},
     "output_type": "execute_result"
    }
   ],
   "source": [
    "anova(\"marital_status\", \"satisfaction_overall_score\")"
   ]
  },
  {
   "cell_type": "markdown",
   "metadata": {},
   "source": [
    "#### ANOVA between overall satisfaction and income"
   ]
  },
  {
   "cell_type": "code",
   "execution_count": 132,
   "metadata": {
    "ExecuteTime": {
     "end_time": "2018-01-01T12:47:35.564560Z",
     "start_time": "2018-01-01T12:47:35.541369Z"
    }
   },
   "outputs": [
    {
     "data": {
      "text/plain": [
       "F_onewayResult(statistic=0.23694758070260746, pvalue=0.78933755662327809)"
      ]
     },
     "execution_count": 132,
     "metadata": {},
     "output_type": "execute_result"
    }
   ],
   "source": [
    "anova(\"income\", \"satisfaction_overall_score\")"
   ]
  },
  {
   "cell_type": "markdown",
   "metadata": {},
   "source": [
    "### Confidence (voter)"
   ]
  },
  {
   "cell_type": "markdown",
   "metadata": {},
   "source": [
    "#### ANOVA between confidence and gender"
   ]
  },
  {
   "cell_type": "code",
   "execution_count": 134,
   "metadata": {
    "ExecuteTime": {
     "end_time": "2018-01-01T12:55:04.823766Z",
     "start_time": "2018-01-01T12:55:04.805639Z"
    }
   },
   "outputs": [
    {
     "data": {
      "text/plain": [
       "F_onewayResult(statistic=0.37758327364987798, pvalue=0.53985588049346078)"
      ]
     },
     "execution_count": 134,
     "metadata": {},
     "output_type": "execute_result"
    }
   ],
   "source": [
    "anova(\"gender\", \"confidence_score\")"
   ]
  },
  {
   "cell_type": "markdown",
   "metadata": {},
   "source": [
    "#### ANOVA between confidence and age"
   ]
  },
  {
   "cell_type": "code",
   "execution_count": 135,
   "metadata": {
    "ExecuteTime": {
     "end_time": "2018-01-01T12:55:20.865561Z",
     "start_time": "2018-01-01T12:55:20.855522Z"
    }
   },
   "outputs": [
    {
     "data": {
      "text/plain": [
       "F_onewayResult(statistic=0.91943114526677727, pvalue=0.47033738017301474)"
      ]
     },
     "execution_count": 135,
     "metadata": {},
     "output_type": "execute_result"
    }
   ],
   "source": [
    "anova(\"age\", \"confidence_score\")"
   ]
  },
  {
   "cell_type": "markdown",
   "metadata": {},
   "source": [
    "#### ANOVA between confidence and employment"
   ]
  },
  {
   "cell_type": "code",
   "execution_count": 136,
   "metadata": {
    "ExecuteTime": {
     "end_time": "2018-01-01T12:55:30.541705Z",
     "start_time": "2018-01-01T12:55:30.527207Z"
    }
   },
   "outputs": [
    {
     "data": {
      "text/plain": [
       "F_onewayResult(statistic=0.79650138787612235, pvalue=0.57416020462254558)"
      ]
     },
     "execution_count": 136,
     "metadata": {},
     "output_type": "execute_result"
    }
   ],
   "source": [
    "anova(\"employment\", \"confidence_score\")"
   ]
  },
  {
   "cell_type": "markdown",
   "metadata": {},
   "source": [
    "#### ANOVA between confidence and marital status"
   ]
  },
  {
   "cell_type": "code",
   "execution_count": 137,
   "metadata": {
    "ExecuteTime": {
     "end_time": "2018-01-01T12:55:41.617554Z",
     "start_time": "2018-01-01T12:55:41.601928Z"
    }
   },
   "outputs": [
    {
     "data": {
      "text/plain": [
       "F_onewayResult(statistic=0.44809868191043434, pvalue=0.50429645409390078)"
      ]
     },
     "execution_count": 137,
     "metadata": {},
     "output_type": "execute_result"
    }
   ],
   "source": [
    "anova(\"marital_status\", \"confidence_score\")"
   ]
  },
  {
   "cell_type": "markdown",
   "metadata": {},
   "source": [
    "#### ANOVA between confidence and income"
   ]
  },
  {
   "cell_type": "code",
   "execution_count": 138,
   "metadata": {
    "ExecuteTime": {
     "end_time": "2018-01-01T12:55:48.426444Z",
     "start_time": "2018-01-01T12:55:48.411602Z"
    }
   },
   "outputs": [
    {
     "data": {
      "text/plain": [
       "F_onewayResult(statistic=1.1485093908236017, pvalue=0.31997664286091426)"
      ]
     },
     "execution_count": 138,
     "metadata": {},
     "output_type": "execute_result"
    }
   ],
   "source": [
    "anova(\"income\", \"confidence_score\")"
   ]
  },
  {
   "cell_type": "markdown",
   "metadata": {},
   "source": [
    "### Loyalty"
   ]
  },
  {
   "cell_type": "markdown",
   "metadata": {},
   "source": [
    "#### ANOVA between loyalty and gender"
   ]
  },
  {
   "cell_type": "code",
   "execution_count": 139,
   "metadata": {
    "ExecuteTime": {
     "end_time": "2018-01-01T13:04:25.825233Z",
     "start_time": "2018-01-01T13:04:25.806197Z"
    }
   },
   "outputs": [
    {
     "data": {
      "text/plain": [
       "F_onewayResult(statistic=0.23290334054585751, pvalue=0.63010214492313488)"
      ]
     },
     "execution_count": 139,
     "metadata": {},
     "output_type": "execute_result"
    }
   ],
   "source": [
    "anova(categorical=\"gender\", continuous=\"loyalty_score\")"
   ]
  },
  {
   "cell_type": "markdown",
   "metadata": {},
   "source": [
    "#### ANOVA between loyalty and age"
   ]
  },
  {
   "cell_type": "code",
   "execution_count": 140,
   "metadata": {
    "ExecuteTime": {
     "end_time": "2018-01-01T13:04:38.143038Z",
     "start_time": "2018-01-01T13:04:38.126306Z"
    }
   },
   "outputs": [
    {
     "data": {
      "text/plain": [
       "F_onewayResult(statistic=4.2636300338580781, pvalue=0.0012132798369676751)"
      ]
     },
     "execution_count": 140,
     "metadata": {},
     "output_type": "execute_result"
    }
   ],
   "source": [
    "anova(categorical=\"age\", continuous=\"loyalty_score\")"
   ]
  },
  {
   "cell_type": "markdown",
   "metadata": {},
   "source": [
    "#### ANOVA between loyalty and employment"
   ]
  },
  {
   "cell_type": "code",
   "execution_count": 141,
   "metadata": {
    "ExecuteTime": {
     "end_time": "2018-01-01T13:05:05.939623Z",
     "start_time": "2018-01-01T13:05:05.927037Z"
    }
   },
   "outputs": [
    {
     "data": {
      "text/plain": [
       "F_onewayResult(statistic=2.8951446302704893, pvalue=0.010827120951770131)"
      ]
     },
     "execution_count": 141,
     "metadata": {},
     "output_type": "execute_result"
    }
   ],
   "source": [
    "anova(categorical=\"employment\", continuous=\"loyalty_score\")"
   ]
  },
  {
   "cell_type": "markdown",
   "metadata": {},
   "source": [
    "#### ANOVA between loyalty and marital_status"
   ]
  },
  {
   "cell_type": "code",
   "execution_count": 142,
   "metadata": {
    "ExecuteTime": {
     "end_time": "2018-01-01T13:05:27.621771Z",
     "start_time": "2018-01-01T13:05:27.609808Z"
    }
   },
   "outputs": [
    {
     "data": {
      "text/plain": [
       "F_onewayResult(statistic=15.90022965610536, pvalue=0.0001051783490714185)"
      ]
     },
     "execution_count": 142,
     "metadata": {},
     "output_type": "execute_result"
    }
   ],
   "source": [
    "anova(categorical=\"marital_status\", continuous=\"loyalty_score\")"
   ]
  },
  {
   "cell_type": "markdown",
   "metadata": {},
   "source": [
    "#### ANOVA between loyalty and income"
   ]
  },
  {
   "cell_type": "code",
   "execution_count": 143,
   "metadata": {
    "ExecuteTime": {
     "end_time": "2018-01-01T13:05:45.778652Z",
     "start_time": "2018-01-01T13:05:45.767223Z"
    },
    "scrolled": true
   },
   "outputs": [
    {
     "data": {
      "text/plain": [
       "F_onewayResult(statistic=0.6225266111339659, pvalue=0.53801484440932446)"
      ]
     },
     "execution_count": 143,
     "metadata": {},
     "output_type": "execute_result"
    }
   ],
   "source": [
    "anova(categorical=\"income\", continuous=\"loyalty_score\")"
   ]
  },
  {
   "cell_type": "code",
   "execution_count": null,
   "metadata": {},
   "outputs": [],
   "source": []
  }
 ],
 "metadata": {
  "celltoolbar": "Initialization Cell",
  "hide_input": false,
  "kernelspec": {
   "display_name": "Python 3",
   "language": "python",
   "name": "python3"
  },
  "language_info": {
   "codemirror_mode": {
    "name": "ipython",
    "version": 3
   },
   "file_extension": ".py",
   "mimetype": "text/x-python",
   "name": "python",
   "nbconvert_exporter": "python",
   "pygments_lexer": "ipython3",
   "version": "3.6.3"
  },
  "notify_time": "5",
  "varInspector": {
   "cols": {
    "lenName": 16,
    "lenType": 16,
    "lenVar": 40
   },
   "kernels_config": {
    "python": {
     "delete_cmd_postfix": "",
     "delete_cmd_prefix": "del ",
     "library": "var_list.py",
     "varRefreshCmd": "print(var_dic_list())"
    },
    "r": {
     "delete_cmd_postfix": ") ",
     "delete_cmd_prefix": "rm(",
     "library": "var_list.r",
     "varRefreshCmd": "cat(var_dic_list()) "
    }
   },
   "position": {
    "height": "254px",
    "left": "996px",
    "right": "29px",
    "top": "120px",
    "width": "341px"
   },
   "types_to_exclude": [
    "module",
    "function",
    "builtin_function_or_method",
    "instance",
    "_Feature"
   ],
   "window_display": false
  }
 },
 "nbformat": 4,
 "nbformat_minor": 2
}
