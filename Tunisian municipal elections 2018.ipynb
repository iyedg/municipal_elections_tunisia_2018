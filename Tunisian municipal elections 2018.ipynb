{
 "cells": [
  {
   "cell_type": "markdown",
   "metadata": {},
   "source": [
    "# Data preparation"
   ]
  },
  {
   "cell_type": "markdown",
   "metadata": {},
   "source": [
    "## Load data"
   ]
  },
  {
   "cell_type": "code",
   "execution_count": 38,
   "metadata": {
    "ExecuteTime": {
     "end_time": "2018-01-01T09:18:39.279719Z",
     "start_time": "2018-01-01T09:18:39.275706Z"
    },
    "init_cell": true
   },
   "outputs": [],
   "source": [
    "from oauth2client.service_account import ServiceAccountCredentials\n",
    "import gspread"
   ]
  },
  {
   "cell_type": "code",
   "execution_count": 39,
   "metadata": {
    "ExecuteTime": {
     "end_time": "2018-01-01T09:18:39.285374Z",
     "start_time": "2018-01-01T09:18:39.281960Z"
    },
    "init_cell": true
   },
   "outputs": [],
   "source": [
    "import pandas as pd\n",
    "import numpy as np"
   ]
  },
  {
   "cell_type": "code",
   "execution_count": 40,
   "metadata": {
    "ExecuteTime": {
     "end_time": "2018-01-01T09:18:39.307554Z",
     "start_time": "2018-01-01T09:18:39.299323Z"
    },
    "init_cell": true
   },
   "outputs": [],
   "source": [
    "def load_sheet():\n",
    "    SHEET_NAME = \"التوانسة كفاه ينتخبوا؟ (Responses)\"\n",
    "    KEY_FILENAME = \"cred.json\"\n",
    "    scope = ['https://spreadsheets.google.com/feeds']\n",
    "    credentials = ServiceAccountCredentials.from_json_keyfile_name(\n",
    "        KEY_FILENAME, scope)\n",
    "    gc = gspread.authorize(credentials)\n",
    "    return gc.open(SHEET_NAME).sheet1"
   ]
  },
  {
   "cell_type": "code",
   "execution_count": 41,
   "metadata": {
    "ExecuteTime": {
     "end_time": "2018-01-01T09:18:40.787286Z",
     "start_time": "2018-01-01T09:18:39.310977Z"
    },
    "init_cell": true
   },
   "outputs": [],
   "source": [
    "sheet = load_sheet()"
   ]
  },
  {
   "cell_type": "code",
   "execution_count": 42,
   "metadata": {
    "ExecuteTime": {
     "end_time": "2018-01-01T09:18:40.839725Z",
     "start_time": "2018-01-01T09:18:40.793139Z"
    },
    "init_cell": true
   },
   "outputs": [],
   "source": [
    "columns = {\n",
    "    \"Timestamp\": \"timestamp\",\n",
    "    \"فيما يتعلق بتوقعاتي، أنا نحس أداء المجلس البلدي الحالي  مخيّب للآمال [‌‌]\": \"satisfaction_overall_1\",\n",
    "    \"بعد الانتخابات الأخيرة، أنا في أغلب الأوقات نحس بخيبة أمل أكثر ملّي نحس برضا على أداء المجلس البلدي [‌‌]\": \"satisfaction_overall_2\",\n",
    "    \"بصفة عامّة، أنا راضي(ة) على أداء المجلس البلدي الحالي [‌‌]\": \"satisfaction_overall_3\",\n",
    "    \"فيما يتعلق بتوقعاتي،  نحس تعامل المجلس البلدي الحالي مع الفساد  مخيّب للآمال [‌‌]\": \"satisfaction_corruption_1\",\n",
    "    \"بعد الانتخابات الأخيرة، أنا في أغلب الأوقات نحس بخيبة أمل أكثر ملّي نحس برضا على أداء المجلس البلدي في التعامل مع الفساد [‌‌]\": \"satisfaction_corruption_2\",\n",
    "    \"بصفة عامة، أنا راضي(ة) على أداء المجلس البلدي الحالي في التعامل مع الفساد [‌‌]\": \"satisfaction_corruption_3\",\n",
    "    \"فيما يتعلق بتوقعاتي،  نحس تعامل المجلس البلدي الحالي مع البنية التّحتيّة و تطويرها مخيّب للآمال [‌‌]\": \"satisfaction_infrastructure_1\",\n",
    "    \"بعد الانتخابات الأخيرة، أنا في أغلب الأوقات نحسّ بخيبة أمل أكثر ملّي نحس برضا على أداء المجلس البلدي في التعامل مع البنية التّحتيّة وتطويرها [‌‌]\": \"satisfaction_infrastructure_2\",\n",
    "    \"بصفة عامة، أنا راضي(ة) على أداء المجلس البلدي الحالي في  التعامل مع البنية التّحتيّة وتطويرها [‌‌]\": \"satisfaction_infrastructure_3\",\n",
    "    \"فيما يتعلق بتوقعاتي،  نحس تعامل المجلس البلدي الحالي مع الشّفافيّة  مخيّب للآمال [‌‌]\": \"satisfaction_transparency_1\",\n",
    "    \"بعد الانتخابات الأخيرة، أنا في أغلب الأوقات نحسّ بخيبة أمل أكثر ملّي نحس برضا على أداء المجلس البلدي في التعامل مع الشّفافيّة [‌‌]\": \"satisfaction_transparency_2\",\n",
    "    \"بصفة عامة، أنا راضي(ة) على أداء المجلس البلدي الحالي في  التعامل مع الشّفافيّة [‌‌]\": \"satisfaction_transparency_3\",\n",
    "    \"ديما بش نختار مرشحي/مرشحتى و الا حزبي قبل المنافسين [‌‌]\": \"loyalty_1\",\n",
    "    \"ديما بش نفضل افكار  مرشحي/مرشحتى و الا حزبي قبل المنافسين [‌‌]\": \"loyalty_2\",\n",
    "    \"ديما بش نختار توجّهات  مرشحي/مرشحتى و الا حزبي قبل توجّهات  المنافسين [‌‌]\": \"loyalty_3\",\n",
    "    \"ديما بش نصوّت لمرشحي/لمرشحتى و الا حزبي ضد المنافسين [‌‌]\": \"loyalty_4\",\n",
    "    \"وقت اللي نختار المترشحين و القوائم المترشحة للإنتخبات نقول [‌‌]\": \"involvement_1\",\n",
    "    \"هل ترى انو  الأفراد و القوائم المترشحة للإنتخبات الكل كيف كيف ولا يفرقو على بعضهم؟  [‌‌]\": \"involvement_2\",\n",
    "    \"قداش يهمك انك تختار المترشح(ة) او القائمة المناسبة ؟ [‌‌]\": \"involvement_3\",\n",
    "    \"قداش يهمك تاثير خيارك على نتيجة الانتخابات البلدية ؟ [‌‌]\": \"involvement_4\",\n",
    "    \" حسب رايك، في شكون عندك الثقة إنو ينجم يحقق الشفافية: المجلس البلدي الحالي متاع منطقتك او مجلس بلدي جديد؟\": \"projective_decision_1\",\n",
    "    \" حسب رايك،  في شكون عندك الثقة إنو ينجم يحسن البنية التحتية:   المجلس البلدي الحالي متاع منطقتك او مجلس بلدي جديد؟\": \"projective_decision_2\",\n",
    "    \" حسب رايك، في شكون عندك الثقة  إنو ينجم يحارب  الفساد: المجلس البلدي الحالي متاع منطقتك او مجلس بلدي جديد؟\": \"projective_decision_3\",\n",
    "    \"حسب رايك، في شكون عندك الثقة إنو ينجم يعطي احسن مردود: المجلس البلدي الحالي  او مجلس بلدي جديد؟\": \"projective_decision_4\",\n",
    "    \"بالنسبة لي، الأخبار التلفزيونية مصدر مهم للمعلومات في الانتخابات البلدية [‌‌]\": \"external_information_1\",\n",
    "    \"بالنسبة لي،  الجرائد و المجلّات مصدر مهم للمعلومات بالنسبة للإنتخابات البلدية [‌‌]\": \"external_information_2\",\n",
    "    \"بالنسبة لي، الإنترنت مصدر مهم للمعلومات بالنسبة للإنتخابات البلدية [‌‌]\": \"external_information_3\",\n",
    "    \"بالنسبة لي، الدعاية السياسية هي مصدر مهم للمعلومات بالنسبة للإنتخابات البلدية [‌‌]\": \"external_information_4\",\n",
    "    \"بالنسبة لي، الناس الآخرين (الصحاب،العايلة الخ) هوما مصدر مهم للمعلومات بالنسبة للإنتخابات البلدية [‌‌]\": \"external_information_5\",\n",
    "    \"أنا واثق إني  باش نختار القائمة الانتخابية الصحيحة في الانتخابات البلدية الجاية [‌‌]\": \"confidence_1\",\n",
    "    \"عندي ثقة في قدرتي باش ناخذ القرار الصحيح كيف نختار لشكون باش نصوت في الانتخابات البلدية [‌‌]\": \"confidence_2\",\n",
    "    \"عندي ثقة في قدرتي باش نختار لشكون باش نصوت في الانتخابات البلدية [‌‌]\": \"confidence_3\",\n",
    "    \"قداش عمرك ؟\": \"age\",\n",
    "    \"الجنس\": \"gender\",\n",
    "    \"شنوّة مستواك التّعليمي ؟\": \"education\",\n",
    "    \"قدّاش الدخل الشّهري لعايلتك؟\": \"income\",\n",
    "    \"ما هي حالتك الاجتماعية؟\": \"marital_status\",\n",
    "    \"في انا قطاع تخدم؟\": \"employment\",\n",
    "    \"شنوة اسم البلدية الي تسكن فيها\": \"residence\",\n",
    "    \"فيما يتعلق بتوقعاتي، أنا نحس أداء المجلس البلدي الحالي  مخيّب للآمال [Row 2]\": \"satisfaction_overall_1_bis\"\n",
    "}"
   ]
  },
  {
   "cell_type": "code",
   "execution_count": 43,
   "metadata": {
    "ExecuteTime": {
     "end_time": "2018-01-01T09:18:52.721579Z",
     "start_time": "2018-01-01T09:18:40.842854Z"
    },
    "init_cell": true
   },
   "outputs": [],
   "source": [
    "df = pd.DataFrame(sheet.get_all_records())\n",
    "df.rename(columns=columns, inplace=True)"
   ]
  },
  {
   "cell_type": "code",
   "execution_count": 44,
   "metadata": {
    "ExecuteTime": {
     "end_time": "2018-01-01T09:18:52.745737Z",
     "start_time": "2018-01-01T09:18:52.724408Z"
    },
    "init_cell": true
   },
   "outputs": [],
   "source": [
    "df.replace({\"\": np.nan}, inplace=True)"
   ]
  },
  {
   "cell_type": "markdown",
   "metadata": {},
   "source": [
    "## Recode values"
   ]
  },
  {
   "cell_type": "markdown",
   "metadata": {},
   "source": [
    "### Recode demographic / socioeconomic values"
   ]
  },
  {
   "cell_type": "code",
   "execution_count": 45,
   "metadata": {
    "ExecuteTime": {
     "end_time": "2018-01-01T09:18:52.757955Z",
     "start_time": "2018-01-01T09:18:52.750535Z"
    },
    "init_cell": true
   },
   "outputs": [],
   "source": [
    "df.age.replace({\n",
    "    \"أكثر من 64\": \">64\"\n",
    "},\n",
    "    inplace=True)"
   ]
  },
  {
   "cell_type": "code",
   "execution_count": 46,
   "metadata": {
    "ExecuteTime": {
     "end_time": "2018-01-01T09:18:52.771452Z",
     "start_time": "2018-01-01T09:18:52.762360Z"
    },
    "init_cell": true
   },
   "outputs": [],
   "source": [
    "df.education.replace({\n",
    "    \"ثانوي\": \"Highschool\",\n",
    "    \"الجامعي\": \"Undergraduate\",\n",
    "    \"الدراسات العليا\": \"Post-graduate\",\n",
    "    \"أمي(ة)\": \"Illiterate\",\n",
    "}, inplace=True)"
   ]
  },
  {
   "cell_type": "code",
   "execution_count": 47,
   "metadata": {
    "ExecuteTime": {
     "end_time": "2018-01-01T09:18:52.788067Z",
     "start_time": "2018-01-01T09:18:52.775197Z"
    },
    "init_cell": true
   },
   "outputs": [],
   "source": [
    "df.employment.replace({\n",
    "    \"مسؤول(ة)\": \"Senior official\",\n",
    "    \"موظف(ة) إداري(ة)\": \"Administrative employee\",\n",
    "    \"موظف إداري\": \"Administrative employee\",\n",
    "    \"باعث(ة) مشروع ، فلاح(ة) ، تاجر(ة)\": \"Liberal, agriculturer or merchant\",\n",
    "    \"باعث مشروع ، فلاح ، تاجر\": \"Liberal, agriculturer or merchant\",\n",
    "    \"بطّال(ة)\": \"Unemployed\",\n",
    "    \"في الدّار (أب أو أم)\": \"Stay at home parent\",\n",
    "    \"طالب(ة)\": \"Student\",\n",
    "    \"étudiant \": \"Student\",\n",
    "    \"متقاعد(ة)\": \"Retired\"\n",
    "}, inplace=True)"
   ]
  },
  {
   "cell_type": "code",
   "execution_count": 48,
   "metadata": {
    "ExecuteTime": {
     "end_time": "2018-01-01T09:18:52.797375Z",
     "start_time": "2018-01-01T09:18:52.791305Z"
    },
    "init_cell": true
   },
   "outputs": [],
   "source": [
    "df.gender.replace({\n",
    "    \"أنثى\": \"F\",\n",
    "    \"ذكر\": \"M\"\n",
    "}, inplace=True)"
   ]
  },
  {
   "cell_type": "code",
   "execution_count": 49,
   "metadata": {
    "ExecuteTime": {
     "end_time": "2018-01-01T09:18:52.808876Z",
     "start_time": "2018-01-01T09:18:52.800753Z"
    },
    "init_cell": true
   },
   "outputs": [],
   "source": [
    "df.income.replace({\n",
    "    \"أقل من 600\": \"<600\",\n",
    "    \"بين 600 و1200\": \"600-1200\",\n",
    "    \"اكثر من 1200\": \">1200\"\n",
    "}, inplace=True)"
   ]
  },
  {
   "cell_type": "code",
   "execution_count": 50,
   "metadata": {
    "ExecuteTime": {
     "end_time": "2018-01-01T09:18:52.822809Z",
     "start_time": "2018-01-01T09:18:52.812119Z"
    },
    "init_cell": true
   },
   "outputs": [],
   "source": [
    "df.marital_status.replace({\n",
    "    \"عازب(ة)\": \"Single\",\n",
    "    \"عازب\": \"Single\",\n",
    "    \"متزوج(ة)\": \"Married\",\n",
    "    \"متزوج\": \"Married\",\n",
    "    \"مطلق(ة)\": \"Divorced\",\n",
    "    \"أرمل(ة)\": \"Widowed\"\n",
    "}, inplace=True)"
   ]
  },
  {
   "cell_type": "markdown",
   "metadata": {},
   "source": [
    "### Recode attitudinal columns (Likert scale)"
   ]
  },
  {
   "cell_type": "code",
   "execution_count": 51,
   "metadata": {
    "ExecuteTime": {
     "end_time": "2018-01-01T09:18:52.832673Z",
     "start_time": "2018-01-01T09:18:52.825800Z"
    },
    "init_cell": true
   },
   "outputs": [],
   "source": [
    "exclude = set([\"satisfaction_overall_1_bis\", \"timestamp\", \"residence\",\n",
    "               \"employment\", \"marital_status\", \"gender\", \"age\", \"income\",\n",
    "               \"education\"])\n",
    "include = list(set(df.columns).difference(exclude))"
   ]
  },
  {
   "cell_type": "code",
   "execution_count": 52,
   "metadata": {
    "ExecuteTime": {
     "end_time": "2018-01-01T09:18:52.857640Z",
     "start_time": "2018-01-01T09:18:52.836145Z"
    },
    "init_cell": true
   },
   "outputs": [],
   "source": [
    "likert_strongly_agree = [\"موافق برشا\",\n",
    "                         \"موافق(ة) برشا\",\n",
    "                         \"يهمني برشا شكون نختار\",\n",
    "                         \"يهمني برشا\",\n",
    "                         \"مختلفين على بعضهم\"\n",
    "                         ]\n",
    "\n",
    "likert_agree = [\"موافق\",\n",
    "                \"موافق(ة)\",\n",
    "                \"يهمني شكون نختار\",\n",
    "                \"يهمني\",\n",
    "                \"مختلفين على بعضهم مع شوية تشابه\"\n",
    "                ]\n",
    "\n",
    "likert_indifferent = [\"لا موافق(ة) لا مش موافق(ة)\",\n",
    "                      \"لاٍموافق(ة) لا مش موافق(ة)\",\n",
    "                      \"لاموافق(ة) لا مش موافق(ة)\",\n",
    "                      \"لا يهمني لا ميهمنيش شكون نختار\",\n",
    "                      \"لا يهمني لا ميهمنيش\",\n",
    "                      \"لا موافق لا مش موافق\",\n",
    "                      \"ما عنديش راى\"\n",
    "                      ]\n",
    "\n",
    "likert_disagree = [\"مش موافق\",\n",
    "                   \"مانيش موافق(ة)\",\n",
    "                   \"مش موافق(ة)\",\n",
    "                   \"مش موافق, مش موافق(ة)\",\n",
    "                   \"مايهمنيش\",\n",
    "                   \"مايهمنيش شكون نختار\",\n",
    "                   \"كيف كيف  مع شوية اختلاف\"\n",
    "                   ]\n",
    "likert_strongly_disagree = [\"مش موافق بالكل\",\n",
    "                            \"مش موافق(ة) بالكل\",\n",
    "                            \"مانيش موافق(ة) جملة\",\n",
    "                            \"مايهمنيش جملة\",\n",
    "                            \"مايهمنيش جملة شكون نختار\",\n",
    "                            \"كيف كيف\"\n",
    "                            ]"
   ]
  },
  {
   "cell_type": "code",
   "execution_count": 53,
   "metadata": {
    "ExecuteTime": {
     "end_time": "2018-01-01T09:18:52.878423Z",
     "start_time": "2018-01-01T09:18:52.860714Z"
    },
    "init_cell": true
   },
   "outputs": [],
   "source": [
    "likert_scale = {}\n",
    "for i in likert_strongly_agree:\n",
    "    likert_scale[i] = 5\n",
    "for i in likert_agree:\n",
    "    likert_scale[i] = 4\n",
    "for i in likert_indifferent:\n",
    "    likert_scale[i] = 3\n",
    "for i in likert_disagree:\n",
    "    likert_scale[i] = 2\n",
    "for i in likert_strongly_disagree:\n",
    "    likert_scale[i] = 1"
   ]
  },
  {
   "cell_type": "code",
   "execution_count": 54,
   "metadata": {
    "ExecuteTime": {
     "end_time": "2018-01-01T09:18:52.886373Z",
     "start_time": "2018-01-01T09:18:52.881571Z"
    },
    "init_cell": true
   },
   "outputs": [],
   "source": [
    "projective_coded = {\n",
    "    \"المجلس البلدي الحالي\": 0,\n",
    "    \"مجلس بلدي جديد\": 1\n",
    "}"
   ]
  },
  {
   "cell_type": "code",
   "execution_count": 55,
   "metadata": {
    "ExecuteTime": {
     "end_time": "2018-01-01T09:18:52.939228Z",
     "start_time": "2018-01-01T09:18:52.890020Z"
    },
    "init_cell": true
   },
   "outputs": [],
   "source": [
    "df.replace(likert_scale, inplace=True)\n",
    "df.replace(projective_coded, inplace=True)"
   ]
  },
  {
   "cell_type": "code",
   "execution_count": 56,
   "metadata": {
    "ExecuteTime": {
     "end_time": "2018-01-01T09:18:52.982252Z",
     "start_time": "2018-01-01T09:18:52.942335Z"
    },
    "init_cell": true
   },
   "outputs": [],
   "source": [
    "df.fillna(df.mean(), inplace=True)"
   ]
  },
  {
   "cell_type": "markdown",
   "metadata": {},
   "source": [
    "## Measured constructs"
   ]
  },
  {
   "cell_type": "markdown",
   "metadata": {},
   "source": [
    "### Overall satisfaction"
   ]
  },
  {
   "cell_type": "code",
   "execution_count": 57,
   "metadata": {
    "ExecuteTime": {
     "end_time": "2018-01-01T09:18:52.995319Z",
     "start_time": "2018-01-01T09:18:52.985291Z"
    },
    "init_cell": true
   },
   "outputs": [],
   "source": [
    "n_variables = 3\n",
    "satisfaction_overall_variables = [\"satisfaction_overall_{}\".format(i) for i in range(1, n_variables + 1)]\n",
    "satisfaction_overall = df[satisfaction_overall_variables]"
   ]
  },
  {
   "cell_type": "markdown",
   "metadata": {
    "ExecuteTime": {
     "end_time": "2017-12-30T11:57:40.817035Z",
     "start_time": "2017-12-30T11:57:40.737160Z"
    }
   },
   "source": [
    "### Satisfaction with handling corruption"
   ]
  },
  {
   "cell_type": "code",
   "execution_count": 58,
   "metadata": {
    "ExecuteTime": {
     "end_time": "2018-01-01T09:18:53.007933Z",
     "start_time": "2018-01-01T09:18:52.999091Z"
    },
    "init_cell": true
   },
   "outputs": [],
   "source": [
    "n_variables = 3\n",
    "satisfaction_corruption_variables = [\"satisfaction_corruption_{}\".format(i) for i in range(1, n_variables + 1)]\n",
    "satisfaction_corruption = df[satisfaction_corruption_variables]"
   ]
  },
  {
   "cell_type": "markdown",
   "metadata": {
    "ExecuteTime": {
     "end_time": "2017-12-30T12:00:57.880235Z",
     "start_time": "2017-12-30T12:00:57.833636Z"
    }
   },
   "source": [
    "### Satisfaction with handling infrastructure\n"
   ]
  },
  {
   "cell_type": "code",
   "execution_count": 59,
   "metadata": {
    "ExecuteTime": {
     "end_time": "2018-01-01T09:18:53.021061Z",
     "start_time": "2018-01-01T09:18:53.011592Z"
    },
    "init_cell": true
   },
   "outputs": [],
   "source": [
    "n_variables = 3\n",
    "satisfaction_infrastructure_variables = [\"satisfaction_infrastructure_{}\".format(i) for i in range(1, n_variables + 1)]\n",
    "satisfaction_infrastructure = df[satisfaction_infrastructure_variables]"
   ]
  },
  {
   "cell_type": "markdown",
   "metadata": {},
   "source": [
    "### Satisfaction with handling transparency"
   ]
  },
  {
   "cell_type": "code",
   "execution_count": 60,
   "metadata": {
    "ExecuteTime": {
     "end_time": "2018-01-01T09:18:53.032345Z",
     "start_time": "2018-01-01T09:18:53.024486Z"
    },
    "init_cell": true
   },
   "outputs": [],
   "source": [
    "n_variables = 3\n",
    "satisfaction_transparency_variables = [\"satisfaction_transparency_{}\".format(i) for i in range(1, n_variables + 1)]\n",
    "satisfaction_transparency = df[satisfaction_transparency_variables]"
   ]
  },
  {
   "cell_type": "markdown",
   "metadata": {},
   "source": [
    "### Projective decision"
   ]
  },
  {
   "cell_type": "code",
   "execution_count": 61,
   "metadata": {
    "ExecuteTime": {
     "end_time": "2018-01-01T09:18:53.044605Z",
     "start_time": "2018-01-01T09:18:53.035819Z"
    },
    "init_cell": true
   },
   "outputs": [],
   "source": [
    "n_variables = 4\n",
    "projective_decision_variables = [\"projective_decision_{}\".format(i) for i in range(1, n_variables + 1)]\n",
    "projective_decision = df[projective_decision_variables]"
   ]
  },
  {
   "cell_type": "markdown",
   "metadata": {},
   "source": [
    "### Loyalty"
   ]
  },
  {
   "cell_type": "code",
   "execution_count": 62,
   "metadata": {
    "ExecuteTime": {
     "end_time": "2018-01-01T09:18:53.059789Z",
     "start_time": "2018-01-01T09:18:53.048462Z"
    },
    "init_cell": true
   },
   "outputs": [],
   "source": [
    "n_variables = 4\n",
    "loyalty_variables = [\"loyalty_{}\".format(i) for i in range(1, n_variables + 1)]\n",
    "loyalty = df[loyalty_variables]"
   ]
  },
  {
   "cell_type": "markdown",
   "metadata": {},
   "source": [
    "### Involvement with the decision"
   ]
  },
  {
   "cell_type": "code",
   "execution_count": 63,
   "metadata": {
    "ExecuteTime": {
     "end_time": "2018-01-01T09:18:53.073441Z",
     "start_time": "2018-01-01T09:18:53.063033Z"
    },
    "init_cell": true
   },
   "outputs": [],
   "source": [
    "n_variables = 4\n",
    "involvement_variables = [\"involvement_{}\".format(i) for i in range(1, n_variables + 1)]\n",
    "involvement = df[involvement_variables]"
   ]
  },
  {
   "cell_type": "markdown",
   "metadata": {},
   "source": [
    "### Confidence (voter)"
   ]
  },
  {
   "cell_type": "code",
   "execution_count": 64,
   "metadata": {
    "ExecuteTime": {
     "end_time": "2018-01-01T09:18:53.087728Z",
     "start_time": "2018-01-01T09:18:53.077091Z"
    },
    "init_cell": true
   },
   "outputs": [],
   "source": [
    "n_variables = 3\n",
    "confidence_variables = [\"confidence_{}\".format(i) for i in range(1, n_variables + 1)]\n",
    "confidence = df[confidence_variables]"
   ]
  },
  {
   "cell_type": "markdown",
   "metadata": {},
   "source": [
    "### Value of external information"
   ]
  },
  {
   "cell_type": "code",
   "execution_count": 65,
   "metadata": {
    "ExecuteTime": {
     "end_time": "2018-01-01T09:18:53.100078Z",
     "start_time": "2018-01-01T09:18:53.091616Z"
    },
    "init_cell": true
   },
   "outputs": [],
   "source": [
    "n_variables = 5\n",
    "external_information_variables = [\"external_information_{}\".format(i) for i in range(1, n_variables + 1)]\n",
    "external_information = df[external_information_variables]"
   ]
  },
  {
   "cell_type": "markdown",
   "metadata": {},
   "source": [
    "## Score variables"
   ]
  },
  {
   "cell_type": "code",
   "execution_count": 66,
   "metadata": {
    "ExecuteTime": {
     "end_time": "2018-01-01T09:18:53.108676Z",
     "start_time": "2018-01-01T09:18:53.103589Z"
    },
    "init_cell": true
   },
   "outputs": [],
   "source": [
    "def score(construct):\n",
    "    return construct.mean(axis=1)"
   ]
  },
  {
   "cell_type": "markdown",
   "metadata": {},
   "source": [
    "### Overall satisfaction"
   ]
  },
  {
   "cell_type": "code",
   "execution_count": 67,
   "metadata": {
    "ExecuteTime": {
     "end_time": "2018-01-01T09:18:53.118722Z",
     "start_time": "2018-01-01T09:18:53.112511Z"
    },
    "init_cell": true
   },
   "outputs": [],
   "source": [
    "df[\"satisfaction_overall_score\"] = score(satisfaction_overall)"
   ]
  },
  {
   "cell_type": "markdown",
   "metadata": {
    "ExecuteTime": {
     "end_time": "2017-12-30T16:39:11.032438Z",
     "start_time": "2017-12-30T16:39:11.017319Z"
    }
   },
   "source": [
    "### Satisfaction with handling corruption"
   ]
  },
  {
   "cell_type": "code",
   "execution_count": 68,
   "metadata": {
    "ExecuteTime": {
     "end_time": "2018-01-01T09:18:53.134422Z",
     "start_time": "2018-01-01T09:18:53.122571Z"
    },
    "init_cell": true
   },
   "outputs": [],
   "source": [
    "df[\"satisfaction_corruption_score\"] = score(satisfaction_corruption)"
   ]
  },
  {
   "cell_type": "markdown",
   "metadata": {},
   "source": [
    "### Satisfaction with handling transparency"
   ]
  },
  {
   "cell_type": "code",
   "execution_count": 69,
   "metadata": {
    "ExecuteTime": {
     "end_time": "2018-01-01T09:18:53.149709Z",
     "start_time": "2018-01-01T09:18:53.138067Z"
    },
    "init_cell": true
   },
   "outputs": [],
   "source": [
    "df[\"satisfaction_transparency_score\"] = score(satisfaction_transparency)"
   ]
  },
  {
   "cell_type": "markdown",
   "metadata": {},
   "source": [
    "### Satisfaction with handling infrastructure"
   ]
  },
  {
   "cell_type": "code",
   "execution_count": 70,
   "metadata": {
    "ExecuteTime": {
     "end_time": "2018-01-01T09:18:53.162051Z",
     "start_time": "2018-01-01T09:18:53.153548Z"
    },
    "init_cell": true
   },
   "outputs": [],
   "source": [
    "df[\"satisfaction_infrastructure_score\"] = score(satisfaction_infrastructure)"
   ]
  },
  {
   "cell_type": "markdown",
   "metadata": {
    "ExecuteTime": {
     "end_time": "2017-12-30T16:55:38.395560Z",
     "start_time": "2017-12-30T16:55:38.218070Z"
    },
    "init_cell": true
   },
   "source": [
    "### Projective decision"
   ]
  },
  {
   "cell_type": "code",
   "execution_count": 71,
   "metadata": {
    "ExecuteTime": {
     "end_time": "2018-01-01T09:18:53.182540Z",
     "start_time": "2018-01-01T09:18:53.166059Z"
    },
    "init_cell": true
   },
   "outputs": [],
   "source": [
    "df[\"projective_decision_score\"] = score(projective_decision)"
   ]
  },
  {
   "cell_type": "markdown",
   "metadata": {},
   "source": [
    "### Loyalty"
   ]
  },
  {
   "cell_type": "code",
   "execution_count": 72,
   "metadata": {
    "ExecuteTime": {
     "end_time": "2018-01-01T09:18:53.195893Z",
     "start_time": "2018-01-01T09:18:53.186415Z"
    },
    "init_cell": true
   },
   "outputs": [],
   "source": [
    "df[\"loyalty_score\"] = score(loyalty)"
   ]
  },
  {
   "cell_type": "markdown",
   "metadata": {},
   "source": [
    "### Involvement with the decision"
   ]
  },
  {
   "cell_type": "code",
   "execution_count": 73,
   "metadata": {
    "ExecuteTime": {
     "end_time": "2018-01-01T09:18:53.206688Z",
     "start_time": "2018-01-01T09:18:53.201509Z"
    },
    "init_cell": true
   },
   "outputs": [],
   "source": [
    "df[\"involvement_score\"] = score(involvement)"
   ]
  },
  {
   "cell_type": "markdown",
   "metadata": {},
   "source": [
    "### Confidence (voter)"
   ]
  },
  {
   "cell_type": "code",
   "execution_count": 74,
   "metadata": {
    "ExecuteTime": {
     "end_time": "2018-01-01T09:18:53.218066Z",
     "start_time": "2018-01-01T09:18:53.212245Z"
    },
    "init_cell": true
   },
   "outputs": [],
   "source": [
    "df[\"confidence_score\"] = score(confidence)"
   ]
  }
 ],
 "metadata": {
  "celltoolbar": "Initialization Cell",
  "hide_input": false,
  "kernelspec": {
   "display_name": "Python 3",
   "language": "python",
   "name": "python3"
  },
  "language_info": {
   "codemirror_mode": {
    "name": "ipython",
    "version": 3
   },
   "file_extension": ".py",
   "mimetype": "text/x-python",
   "name": "python",
   "nbconvert_exporter": "python",
   "pygments_lexer": "ipython3",
   "version": "3.6.3"
  },
  "notify_time": "5",
  "varInspector": {
   "cols": {
    "lenName": 16,
    "lenType": 16,
    "lenVar": 40
   },
   "kernels_config": {
    "python": {
     "delete_cmd_postfix": "",
     "delete_cmd_prefix": "del ",
     "library": "var_list.py",
     "varRefreshCmd": "print(var_dic_list())"
    },
    "r": {
     "delete_cmd_postfix": ") ",
     "delete_cmd_prefix": "rm(",
     "library": "var_list.r",
     "varRefreshCmd": "cat(var_dic_list()) "
    }
   },
   "position": {
    "height": "254px",
    "left": "996px",
    "right": "29px",
    "top": "120px",
    "width": "341px"
   },
   "types_to_exclude": [
    "module",
    "function",
    "builtin_function_or_method",
    "instance",
    "_Feature"
   ],
   "window_display": false
  }
 },
 "nbformat": 4,
 "nbformat_minor": 2
}
